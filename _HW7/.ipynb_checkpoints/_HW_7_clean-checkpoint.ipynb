{
 "cells": [
  {
   "cell_type": "markdown",
   "metadata": {
    "collapsed": true
   },
   "source": [
    "# <span style=\"color:cornflowerblue\"> Gerald Jones</span>\n",
    "# <span style=\"color:cornflowerblue\"> Home Work 7: Gepbab Corporation with sensitivity analysis</span>\n",
    "# <span style=\"color:cornflowerblue\"> ISE522 Spg 22</span>\n",
    "\n",
    "\n",
    "## Problem Description:\n",
    "> Gepbab Corporation produces three \n",
    "products at two different plants. The cost of \n",
    "producing a unit at each plant is shown on \n",
    "the next slide. Each plant can produce a \n",
    "total of 10,000 units.\n",
    "\n",
    "> At least 6,000 units of product 1, 8,000 units \n",
    "of product 2, and 5,000 units of product 3 \n",
    "must be produced.\n",
    "\n",
    "> Formulate an LP to minimize cost. Solve \n",
    "your LP and use the solution to answer \n",
    "questions on slides 4 and 5.\n",
    "\n",
    "## Questions: See bottom of pdf for after solution discussion section"
   ]
  },
  {
   "cell_type": "markdown",
   "metadata": {},
   "source": [
    "# <span style=\"color:orange\"><center><b>Module imports and data loading</b></center></span>"
   ]
  },
  {
   "cell_type": "code",
   "execution_count": 1,
   "metadata": {},
   "outputs": [
    {
     "data": {
      "application/javascript": [
       "\n",
       "console.log('Starting front end url_querystring_target comm target');\n",
       "const comm = Jupyter.notebook.kernel.comm_manager.new_comm('url_querystring_target', {'init': 1});\n",
       "comm.send({'ipyparams_browser_url': window.location.href});\n",
       "console.log('Sent window.location.href on url_querystring_target comm target');\n",
       "\n",
       "comm.on_msg(function(msg) {\n",
       "    console.log(msg.content.data);\n",
       "});\n"
      ],
      "text/plain": [
       "<IPython.core.display.Javascript object>"
      ]
     },
     "metadata": {},
     "output_type": "display_data"
    }
   ],
   "source": [
    "from _GUROBI_TOOLS_.GUROBI_MODEL_BUILDING_TOOLS import *\n",
    "from _NOTE_BOOK_UTILS import *\n",
    "\n"
   ]
  },
  {
   "cell_type": "markdown",
   "metadata": {},
   "source": [
    "# <a id=Data-Display><span style=\"color:Green\"><center> Data Display</center></span></a>"
   ]
  },
  {
   "cell_type": "code",
   "execution_count": 2,
   "metadata": {},
   "outputs": [
    {
     "data": {
      "text/html": [
       "<div>\n",
       "<style scoped>\n",
       "    .dataframe tbody tr th:only-of-type {\n",
       "        vertical-align: middle;\n",
       "    }\n",
       "\n",
       "    .dataframe tbody tr th {\n",
       "        vertical-align: top;\n",
       "    }\n",
       "\n",
       "    .dataframe thead th {\n",
       "        text-align: right;\n",
       "    }\n",
       "</style>\n",
       "<table border=\"1\" class=\"dataframe\">\n",
       "  <thead>\n",
       "    <tr style=\"text-align: right;\">\n",
       "      <th></th>\n",
       "      <th>cost-1</th>\n",
       "      <th>cost-2</th>\n",
       "      <th>cost-3</th>\n",
       "    </tr>\n",
       "  </thead>\n",
       "  <tbody>\n",
       "    <tr>\n",
       "      <th>plant-1</th>\n",
       "      <td>5</td>\n",
       "      <td>6</td>\n",
       "      <td>8</td>\n",
       "    </tr>\n",
       "    <tr>\n",
       "      <th>plant-2</th>\n",
       "      <td>8</td>\n",
       "      <td>7</td>\n",
       "      <td>10</td>\n",
       "    </tr>\n",
       "  </tbody>\n",
       "</table>\n",
       "</div>"
      ],
      "text/plain": [
       "         cost-1  cost-2  cost-3\n",
       "plant-1       5       6       8\n",
       "plant-2       8       7      10"
      ]
     },
     "metadata": {},
     "output_type": "display_data"
    }
   ],
   "source": [
    "# display data for problem\n",
    "data_df = pd.DataFrame({\n",
    "    \"cost-1\": [5, 8],\n",
    "    \"cost-2\": [6, 7],\n",
    "    \"cost-3\": [8, 10],\n",
    "}, index = [\"plant-1\", \"plant-2\"])\n",
    "\n",
    "display(data_df)"
   ]
  },
  {
   "cell_type": "markdown",
   "metadata": {},
   "source": [
    "# <a id=Model-Formulation><center> <span style=\"color:blue\"> Model Formulation</span> </center></a>"
   ]
  },
  {
   "cell_type": "markdown",
   "metadata": {},
   "source": [
    "## <a id=Parameters-and-Sets><span style=\"color:DarkBlue\">Parameters and Sets:</span></a>"
   ]
  },
  {
   "cell_type": "markdown",
   "metadata": {},
   "source": [
    "### $\\textbf{$S$}  \\quad \\quad \\quad \\text{Set of Plants or sources of products, \\{1,2\\}} s \\in \\textbf{$S$}$ \n",
    "### $\\textbf{$I$}  \\quad \\quad \\quad \\text{Set of Products/Items, \\{1,2,3\\} } $i $ \\in \\textbf{$I$}$ "
   ]
  },
  {
   "cell_type": "markdown",
   "metadata": {},
   "source": [
    "## <a id=Variables><span style=\"color:DarkBlue\">Variables:</span></a>\n",
    "### $X_{s,i} \\quad  \\text{     amount from plant $s$ of item $i$ produced}$ \n",
    "## <a id=Variables><span style=\"color:DarkBlue\">Parameters:</span></a>\n",
    "### $C_{s,i} \\quad  \\text{     cost per unit for plant $s$ to produce item $i$}$ "
   ]
  },
  {
   "cell_type": "markdown",
   "metadata": {},
   "source": [
    "## <a id=Equations-and-Constraints><span style=\"color:DarkBlue\">Constraints:</span></a>"
   ]
  },
  {
   "cell_type": "markdown",
   "metadata": {},
   "source": [
    ">### <span style=\"font-size:30px;color:red\"><b>Production Constraints </b></span>\n",
    "\n",
    "### $$ \\sum_{i=1}^{|I|} X_{s,i} \\leq \\text{10K, }\\forall \\text{ s} \\in S$$\n",
    "\n",
    "\n",
    ">### <span style=\"font-size:30px;color:red\"><b>Product 1 Constraint</b></span>\n",
    "### $$ \\sum_{s=1}^{|S|} X_{s,i} \\geq \\text{6K for } i=1$$\n",
    "\n",
    ">### <span style=\"font-size:30px;color:red\"><b>Product 2 Constraint</b></span>\n",
    "### $$ \\sum_{s=1}^{|S|} X_{s,i} \\geq \\text{8K for } i=2$$\n",
    "\n",
    ">### <span style=\"font-size:30px;color:red\"><b>Product 3 Constraint</b></span>\n",
    "### $$ \\sum_{s=1}^{|S|} X_{s,i} \\geq \\text{5K for } i=3$$"
   ]
  },
  {
   "cell_type": "markdown",
   "metadata": {},
   "source": [
    "## <center><a id=Objective><span style=\"color:green;font-size:200%\">Objective: </span></a></center>\n",
    "### Minimize:\n",
    "# $$\\min(  \\sum_{s=1}^{|S|} \\sum_{i=1}^{|I|} (X_{s,i} \\cdot C_{s,i}))$$"
   ]
  },
  {
   "cell_type": "markdown",
   "metadata": {},
   "source": [
    "# <a id=Method-definitions><center>Method Definitions</center></a>"
   ]
  },
  {
   "cell_type": "code",
   "execution_count": 3,
   "metadata": {},
   "outputs": [],
   "source": [
    "# generate objective\n",
    "def generate_production_cost_expression(Xsi, Csi, S, I, verbose=False):\n",
    "    expr = 0\n",
    "    for s in range(S):\n",
    "        for i in range(I):\n",
    "            plant = \"plant-{}\".format(s+1)\n",
    "            if verbose:\n",
    "                print(\"The cost of product {:d} is {} for {}\".format(i, Csi.iloc[s, i], plant))\n",
    "            \n",
    "            expr += Xsi[s,i] * Csi.iloc[s, i]\n",
    "        print()\n",
    "    return expr\n",
    "\n",
    "def process_required_list(pl, S, verbose=False):\n",
    "    if not isinstance(pl, list):\n",
    "        if verbose:\n",
    "            print(\"given non string forming string\")\n",
    "        if isinstance(pl, (int, float)):\n",
    "            pl = list([pl]*S)\n",
    "            if verbose:\n",
    "                print(\"product limits are now:\")\n",
    "    else:\n",
    "        if verbose:\n",
    "            print(\"product limits are\")\n",
    "    if verbose:\n",
    "        print(pl)\n",
    "    return pl\n",
    "\n",
    "# generate constraints\n",
    "def production_constraints(model, Xsi, production_limits, S, I, verbose=False, name=\"capacity constraint plant: {:d}\"):\n",
    "    # process given production limits \n",
    "    # if given a list will just return the list\n",
    "    # if given some form of number it will be converted to a list with that value\n",
    "    # repeated S times\n",
    "    production_limits = process_required_list(production_limits, S, verbose)\n",
    "    # iterate through each plant\n",
    "    for s in range(S):\n",
    "        # for each plant (s) sum the amount of products it produces (X{s,i})\n",
    "        # and constrain it to the limit\n",
    "        expr = 0 \n",
    "        for i in range(I):\n",
    "            expr += Xsi[s, i]\n",
    "        idx = s%len(production_limits)\n",
    "        if verbose:\n",
    "            print(\"index: \", idx)\n",
    "            print(\"Limit for plant {:d}: {:d}\".format(s, production_limits[idx]))\n",
    "            print(name.format(s))\n",
    "        model.addConstr(expr <= production_limits[idx], name.format(s))\n",
    "    return\n",
    "\n",
    "def product_constraints(model, Xsi, product_minimums, S, I, verbose=False, name=\"product {:d} constraint\"):\n",
    "    # process given production limits \n",
    "    # if given a list will just return the list\n",
    "    # if given some form of number it will be converted to a list with that value\n",
    "    # repeated S times\n",
    "    product_minimums = process_required_list(product_minimums, I, verbose)\n",
    "    # iterate through each product\n",
    "    for i in range(I):\n",
    "        # for each product (i) sum the amount produced by each plant (s) and \n",
    "        # constraint it to be above the lower bound\n",
    "        expr = 0 \n",
    "        for s in range(S):\n",
    "            expr += Xsi[s, i]\n",
    "            # make sure the index does not go out of bounds\n",
    "        idx = i%len(product_minimums)\n",
    "        \n",
    "        if verbose:\n",
    "            print(\"index: \", idx)\n",
    "            print(\"Limit for product {:d}: {:d}\".format(i, product_minimums[idx]))\n",
    "            print(name.format(s))\n",
    "        model.addConstr(expr >= product_minimums[idx], name.format(i+1))\n",
    "    return\n"
   ]
  },
  {
   "cell_type": "markdown",
   "metadata": {},
   "source": [
    "# <a id=implementation><center>Gurobi Implementation and Solution</center></a>"
   ]
  },
  {
   "cell_type": "code",
   "execution_count": 4,
   "metadata": {
    "scrolled": false
   },
   "outputs": [
    {
     "name": "stdout",
     "output_type": "stream",
     "text": [
      "Restricted license - for non-production use only - expires 2023-10-25\n",
      "\n",
      "\n",
      "\n",
      "\n",
      "Gurobi Optimizer version 9.5.0 build v9.5.0rc5 (win64)\n",
      "Thread count: 6 physical cores, 12 logical processors, using up to 12 threads\n",
      "Optimize a model with 5 rows, 6 columns and 12 nonzeros\n",
      "Model fingerprint: 0x697a04d9\n",
      "Coefficient statistics:\n",
      "  Matrix range     [1e+00, 1e+00]\n",
      "  Objective range  [5e+00, 1e+01]\n",
      "  Bounds range     [0e+00, 0e+00]\n",
      "  RHS range        [5e+00, 1e+01]\n",
      "Presolve time: 0.00s\n",
      "Presolved: 5 rows, 6 columns, 12 nonzeros\n",
      "\n",
      "Iteration    Objective       Primal Inf.    Dual Inf.      Time\n",
      "       0    0.0000000e+00   1.900000e+01   0.000000e+00      0s\n",
      "       5    1.2800000e+02   0.000000e+00   0.000000e+00      0s\n",
      "\n",
      "Solved in 5 iterations and 0.01 seconds (0.00 work units)\n",
      "Optimal objective  1.280000000e+02\n",
      "Optimized Variables: \n",
      "\n",
      "-------------Optimal Objective value: Does it make sense?----------------------\n",
      "Obj: 128.00K\n",
      "\n",
      "----------------------Solution, object weight, reduced costs, objective weight ranges\n",
      "Xsi[0,0] => 6.00,\n",
      "obj: 5.0,\n",
      "reduced cost: 0.0,\n",
      "range:6.000---2.000\n",
      "\n",
      "\n",
      "Xsi[0,1] => 0.00,\n",
      "obj: 6.0,\n",
      "reduced cost: 1.0,\n",
      "range:inf--5.000\n",
      "\n",
      "\n",
      "Xsi[0,2] => 4.00,\n",
      "obj: 8.0,\n",
      "reduced cost: 0.0,\n",
      "range:9.000--7.000\n",
      "\n",
      "\n",
      "Xsi[1,0] => 0.00,\n",
      "obj: 8.0,\n",
      "reduced cost: 1.0,\n",
      "range:inf--7.000\n",
      "\n",
      "\n",
      "Xsi[1,1] => 8.00,\n",
      "obj: 7.0,\n",
      "reduced cost: 0.0,\n",
      "range:8.000--0.000\n",
      "\n",
      "\n",
      "Xsi[1,2] => 1.00,\n",
      "obj: 10.0,\n",
      "reduced cost: 0.0,\n",
      "range:11.000--9.000\n",
      "\n",
      "\n",
      "\n",
      "----------------------Shadow Prices and ranges:\n",
      "constraint: capacity constraint plant: 0\n",
      "\tlhs: 10.0\n",
      "\tshadowPrice: -2.0\n",
      "\tRHS: 10.0\n",
      "\tRanges: 11.0 -- 9.0\n",
      "\n",
      "\n",
      "constraint: capacity constraint plant: 1\n",
      "\tlhs: 9.0\n",
      "\tshadowPrice: 0.0\n",
      "\tRHS: 10.0\n",
      "\tRanges: inf -- 9.0\n",
      "\n",
      "\n",
      "constraint: product 1 constraint\n",
      "\tlhs: 6.0\n",
      "\tshadowPrice: 7.0\n",
      "\tRHS: 6.0\n",
      "\tRanges: 7.0 -- 5.0\n",
      "\n",
      "\n",
      "constraint: product 2 constraint\n",
      "\tlhs: 8.0\n",
      "\tshadowPrice: 7.0\n",
      "\tRHS: 8.0\n",
      "\tRanges: 9.0 -- -0.0\n",
      "\n",
      "\n",
      "constraint: product 3 constraint\n",
      "\tlhs: 5.0\n",
      "\tshadowPrice: 10.0\n",
      "\tRHS: 5.0\n",
      "\tRanges: 6.0 -- 4.0\n",
      "\n",
      "\n"
     ]
    }
   ],
   "source": [
    "try:\n",
    "    # instantiate model object \n",
    "    m = gp.Model(\"Gepbab Corporation\")\n",
    "    S = data_df.shape[0]\n",
    "    I = data_df.shape[1]\n",
    "    verbose = False\n",
    "    #########################################################################################\n",
    "    ################################## Parameters set up ####################################\n",
    "    #########################################################################################\n",
    "    product_limits = [6,           # product 1 lower bound on production \n",
    "                      8,           # product 2 lower bound on production  \n",
    "                      5,           # product 3 lower bound on production \n",
    "                     ]\n",
    "    \n",
    "    #########################################################################################\n",
    "    ################################## Variables set up #####################################\n",
    "    #########################################################################################\n",
    "    Xsi = m.addVars(S, I, vtype=GRB.CONTINUOUS, name=\"Xsi\", lb=0)       # X1, X2 creation and >= 0\n",
    "    \n",
    "    \n",
    "#     m.addConstrs(  for s in range(S) for i in range)\n",
    "    #########################################################################################\n",
    "    ################################## Objective set up #####################################\n",
    "    #########################################################################################    \n",
    "    objective_expression = generate_production_cost_expression(Xsi, data_df, S, I, verbose=verbose)\n",
    "    m.setObjective(objective_expression, GRB.MINIMIZE)\n",
    "    print()\n",
    "    #########################################################################################\n",
    "    ################################## Constraint set up ####################################\n",
    "    #########################################################################################\n",
    "    production_constraints(m, Xsi, 10, S, I, verbose=verbose)\n",
    "    print()\n",
    "    product_constraints(m, Xsi, product_limits, S, I, verbose=verbose)\n",
    "    \n",
    "    \n",
    "    #########################################################################################\n",
    "    ################################## SOLVE:OPTIMIZE #######################################\n",
    "    #########################################################################################    \n",
    "    \n",
    "    \n",
    "    m.optimize()\n",
    "    \n",
    "    #########################################################################################\n",
    "    ################################## Display Results ######################################\n",
    "    #########################################################################################    \n",
    "    print(\"Optimized Variables: \")\n",
    "    #displayDecisionVars(m, end_sentinel=\"2\")\n",
    "    \n",
    "    print(\"\\n-------------Optimal Objective value: Does it make sense?----------------------\")  \n",
    "    print('Obj: {:.2f}K'.format(m.ObjVal))\n",
    "    \n",
    "    print(\"\\n----------------------Solution, object weight, reduced costs, objective weight ranges\")\n",
    "    for v in m.getVars():\n",
    "        print(\"{:s} => {:.2f},\\nobj: {},\\nreduced cost: {},\\nrange:{:.3f}--{:.3f}\\n\\n\".format(v.VarName, \n",
    "                                                                                       v.X, v.obj, \n",
    "                                                                                       v.RC, \n",
    "                                                                                       v.SAObjUp, v.SAObjLow))\n",
    "    \n",
    "    \n",
    "    print(\"\\n----------------------Shadow Prices and ranges:\")\n",
    "    for c in m.getConstrs():\n",
    "        lhsval = m.getRow(c).getValue()\n",
    "        outputstr = \"constraint: {}\\n\\tlhs: {}\\n\\tshadowPrice: {}\\n\\tRHS: {}\\n\\tRanges: {} -- {}\\n\\n\"\n",
    "        print(outputstr.format(c.ConstrName, lhsval, c.Pi, c.RHS, c.SARHSUp, c.SARHSLow))\n",
    "    \n",
    "    \n",
    "\n",
    "    \n",
    "    \n",
    "    \n",
    "# catch some math errors\n",
    "except gp.GurobiError as e:\n",
    "    print('Error code ' + str(e.errno) + ': ' + str(e))\n",
    "\n",
    "except AttributeError:\n",
    "    print('Encountered an attribute error')"
   ]
  },
  {
   "cell_type": "markdown",
   "metadata": {},
   "source": [
    "# <a id=solution><span style=\"color:crimson\"><center>Solution Discussion</center></a>"
   ]
  },
  {
   "cell_type": "markdown",
   "metadata": {},
   "source": [
    "> ## The solution suggest to produce 6K and 4K units of products 1 and 3 repsectively at plant 1, and 8K and 1K units of products 2 and 3 respectively at plant 2. The solution shows that you should produce the products where their costs are lower. The costs of producing products 1 and 3 are cheaper at plant 1, but since each plant can only produce 10K units each and there must be at least 5k units of product 3 produced the last unit is produced at plant 2. Since the cost of producing product 2 at plant 2 is lower than at plant 1 it makes sense to make all of the required 8k units at plant 2.  This solution leads to an optimal cost of 128K.  "
   ]
  },
  {
   "cell_type": "markdown",
   "metadata": {},
   "source": [
    "# <a id=solution><span style=\"color:crimson\"><center>Questions:</center></a>\n",
    "### Question 1:\n",
    "* What would the cost of producing product 2 at plant 1 have to be for Gepbab to start producing there?\n",
    "    - **Answer:** The reduced cost for producing product 2 at plant 1 (Xsc[0,1]) is 1. From this the **price would need to be reduced by 1, i.e. 6-1 = 5** so that this option will be see a positive coefficient in the solution. \n",
    "    \n",
    "\n",
    "### Question 2: \n",
    "* What would the total cost be if plant 1 had 9k units of capacity?\n",
    "    - **Answer:** The shadow price of the capacity constraint for plant one is -2 indicating that increasing the capacity by one unit would decrease the cost by two. From this it seems that decreasing the capacity by 1 from 10K to 9k would increase the cost by 2 from 128K to 130K  \n",
    "\n",
    "\n",
    "### Question 3: \n",
    "* If it cost \\$9 to produce a unit of product 3 at plant 1, then what would be the new optimal solution\n",
    "    - **Answer:** The reduced cost for producing product 3 at plant 1 (Xsc[0,2]) is 0 with an objective coefficient range from 9 to 7. This means that increasing it up to 9 will not change the solution so the solution would be the same.  "
   ]
  },
  {
   "cell_type": "code",
   "execution_count": 5,
   "metadata": {},
   "outputs": [],
   "source": [
    "# save the notebook as a pdf\n",
    "# to_PDF(\"notebook_title\")"
   ]
  }
 ],
 "metadata": {
  "kernelspec": {
   "display_name": "Python 3 (ipykernel)",
   "language": "python",
   "name": "python3"
  },
  "language_info": {
   "codemirror_mode": {
    "name": "ipython",
    "version": 3
   },
   "file_extension": ".py",
   "mimetype": "text/x-python",
   "name": "python",
   "nbconvert_exporter": "python",
   "pygments_lexer": "ipython3",
   "version": "3.9.6"
  }
 },
 "nbformat": 4,
 "nbformat_minor": 1
}
