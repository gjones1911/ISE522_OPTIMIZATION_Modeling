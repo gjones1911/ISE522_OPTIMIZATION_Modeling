{
 "cells": [
  {
   "cell_type": "markdown",
   "metadata": {
    "collapsed": true
   },
   "source": [
    "# <span style=\"color:cornflowerblue\"> Gerald Jones</span>\n",
    "# <span style=\"color:cornflowerblue\"> Home Work 4, Problem 1: Balanced Transportion Problem</span>\n",
    "# <span style=\"color:cornflowerblue\"> ISE522 Spg 22</span>\n",
    "\n",
    "## Notebook Links:\n",
    "1. [Data Display section](#Data-Display)\n",
    "2. [Model Formulation](#Model-Formulation)\n",
    "3. [Method Definitions](#Method-Definitions)\n",
    "4. [Gurobi Implementation](#implementation)\n",
    "5. [Solution Discussion](#solution)\n",
    "\n",
    "## Problem Description:\n",
    "> A company supplies goods to <b>three customers</b>, who <b>each demand 30 units</b>. The company has <b>two warehouses</b>. <b>Warehouse 1 has 40 units</b> on hand and <b>Warehouse 2 has 30</b>. The <b>costs of shipping 1 unit from warehouse to a given customer are shown in the table displayed below in the [Data Display section](#Data-Display) </b>. There is a <b>penalty for unmet demand</b> that is <b>specific to each customer</b> and these are also displayed in the Data Display Section. The task is to formulate this blanced transportation problem to <b>minimize the sum of the shortage and shipping costs</b>.\n",
    "\n",
    "## Notes and Observations\n",
    "* total supply across all locataion is less than total demand\n",
    "* means need just the right amounts to and from to get optimal solution, i.e. taks is non-trivial\n"
   ]
  },
  {
   "cell_type": "markdown",
   "metadata": {},
   "source": [
    "# <span style=\"color:orange\"><center><b>Module imports and data loading</b></center></span>"
   ]
  },
  {
   "cell_type": "code",
   "execution_count": 5,
   "metadata": {},
   "outputs": [],
   "source": [
    "from _GUROBI_TOOLS_.GUROBI_MODEL_BUILDING_TOOLS import *\n",
    "from _NOTE_BOOK_UTILS import *\n",
    "\n",
    "notebook_title = \"_HW4_Problem1.ipynb\"\n",
    "\n",
    "try:\n",
    "    data_file1 = \"WarehouseData.xlsx\"\n",
    "    data_file2 = \"CustomerPenaltyData.xlsx\"\n",
    "    warehouse_df = pd.read_excel(data_file1)\n",
    "    customer_df = pd.read_excel(data_file2)\n",
    "except Exception as ex:\n",
    "    print(\"error loading file\")\n",
    "    print(\"Exception: {}\".format(ex))"
   ]
  },
  {
   "cell_type": "markdown",
   "metadata": {},
   "source": [
    "# <a id=Data-Display><span style=\"color:Green\"><center> Data Display</center></span></a>"
   ]
  },
  {
   "cell_type": "code",
   "execution_count": 6,
   "metadata": {},
   "outputs": [
    {
     "data": {
      "text/html": [
       "<div>\n",
       "<style scoped>\n",
       "    .dataframe tbody tr th:only-of-type {\n",
       "        vertical-align: middle;\n",
       "    }\n",
       "\n",
       "    .dataframe tbody tr th {\n",
       "        vertical-align: top;\n",
       "    }\n",
       "\n",
       "    .dataframe thead th {\n",
       "        text-align: right;\n",
       "    }\n",
       "</style>\n",
       "<table border=\"1\" class=\"dataframe\">\n",
       "  <thead>\n",
       "    <tr style=\"text-align: right;\">\n",
       "      <th></th>\n",
       "      <th>Warehouse</th>\n",
       "      <th>Customer-1</th>\n",
       "      <th>Customer-2</th>\n",
       "      <th>Customer-3</th>\n",
       "    </tr>\n",
       "  </thead>\n",
       "  <tbody>\n",
       "    <tr>\n",
       "      <th>0</th>\n",
       "      <td>1</td>\n",
       "      <td>15</td>\n",
       "      <td>35</td>\n",
       "      <td>25</td>\n",
       "    </tr>\n",
       "    <tr>\n",
       "      <th>1</th>\n",
       "      <td>2</td>\n",
       "      <td>10</td>\n",
       "      <td>50</td>\n",
       "      <td>40</td>\n",
       "    </tr>\n",
       "  </tbody>\n",
       "</table>\n",
       "</div>"
      ],
      "text/plain": [
       "   Warehouse  Customer-1  Customer-2  Customer-3\n",
       "0          1          15          35          25\n",
       "1          2          10          50          40"
      ]
     },
     "metadata": {},
     "output_type": "display_data"
    },
    {
     "data": {
      "text/html": [
       "<div>\n",
       "<style scoped>\n",
       "    .dataframe tbody tr th:only-of-type {\n",
       "        vertical-align: middle;\n",
       "    }\n",
       "\n",
       "    .dataframe tbody tr th {\n",
       "        vertical-align: top;\n",
       "    }\n",
       "\n",
       "    .dataframe thead th {\n",
       "        text-align: right;\n",
       "    }\n",
       "</style>\n",
       "<table border=\"1\" class=\"dataframe\">\n",
       "  <thead>\n",
       "    <tr style=\"text-align: right;\">\n",
       "      <th></th>\n",
       "      <th>Customer</th>\n",
       "      <th>Penalty</th>\n",
       "    </tr>\n",
       "  </thead>\n",
       "  <tbody>\n",
       "    <tr>\n",
       "      <th>0</th>\n",
       "      <td>1</td>\n",
       "      <td>90</td>\n",
       "    </tr>\n",
       "    <tr>\n",
       "      <th>1</th>\n",
       "      <td>2</td>\n",
       "      <td>80</td>\n",
       "    </tr>\n",
       "    <tr>\n",
       "      <th>2</th>\n",
       "      <td>3</td>\n",
       "      <td>110</td>\n",
       "    </tr>\n",
       "  </tbody>\n",
       "</table>\n",
       "</div>"
      ],
      "text/plain": [
       "   Customer  Penalty\n",
       "0         1       90\n",
       "1         2       80\n",
       "2         3      110"
      ]
     },
     "metadata": {},
     "output_type": "display_data"
    }
   ],
   "source": [
    "display(warehouse_df)\n",
    "display(customer_df)"
   ]
  },
  {
   "cell_type": "markdown",
   "metadata": {},
   "source": [
    "# <a id=Model-Formulation><center> <span style=\"color:blue\"> Model Formulation</span> </center></a>"
   ]
  },
  {
   "cell_type": "markdown",
   "metadata": {},
   "source": [
    "## Parameters and Sets:\n",
    "### $\\textbf{W}  \\quad \\quad \\quad \\text{set of warehouses, } w \\in \\textbf{W}$ \n",
    "### $\\textbf{C} \\quad \\quad \\quad \\text{set of warehouses, } c \\in \\textbf{C}$ \n",
    "### $D_{c} \\quad \\quad \\quad \\text{ demand for customer } c$\n",
    "### $P_{c} \\quad \\quad \\quad \\text{ unmet penalty for customer } c$\n",
    "### $H_{w} \\quad \\quad \\quad \\text{amount on hand for warehouse } w$\n",
    "### $S_{w,c} \\quad \\quad \\text{shipping costs for warehouse } w \\text{ to customer } c$\n",
    "### $_{} \\quad \\quad \\quad \\text{}$\n",
    "### $_{} \\quad \\quad \\quad \\text{}$\n",
    "\n",
    "## Variables:\n",
    "### $X_{w,c} \\quad  \\text{     amount from warehouse w supplied to customer } c$ \n",
    "### $U_{c} \\quad \\quad   \\text{    unmet demand for customer } c$\n",
    "### $Z_{w} \\quad \\text{ total supplied units for warehouse } c$\n",
    "### $T     \\quad  \\quad  \\text{ total of supply and unmet demand costs}$\n",
    "## Equations and Constraints:\n",
    ">### <center><span style=\"font-size:30px;color:red\"><b>Equation </b></span></center>\n",
    "# $$0 \\leq \\quad X_p \\quad  \\leq 1, \\forall p$$\n",
    "## Objective:"
   ]
  },
  {
   "cell_type": "markdown",
   "metadata": {},
   "source": [
    "# <a id=Method-definitions><center>Method Definitions</center></a>"
   ]
  },
  {
   "cell_type": "markdown",
   "metadata": {},
   "source": [
    "# <a id=implementation><center>Gurobi Implementation and Solution</center></a>"
   ]
  },
  {
   "cell_type": "code",
   "execution_count": null,
   "metadata": {},
   "outputs": [],
   "source": [
    "try:\n",
    "    # instantiate model object \n",
    "    m = gp.Model(\"G_MOD\")\n",
    " \n",
    "    \n",
    "    \n",
    "    #########################################################################################\n",
    "    ################################## Parameters set up ####################################\n",
    "    #########################################################################################\n",
    "\n",
    "    #########################################################################################\n",
    "    ################################## Variables set up #####################################\n",
    "    #########################################################################################\n",
    "\n",
    "    \n",
    "    #########################################################################################\n",
    "    ################################## Objective set up #####################################\n",
    "    #########################################################################################    \n",
    "    \n",
    "    #########################################################################################\n",
    "    ################################## Constraint set up ####################################\n",
    "    #########################################################################################\n",
    "    \n",
    "    \n",
    "    #########################################################################################\n",
    "    ################################## SOLVE:OPTIMIZE #######################################\n",
    "    #########################################################################################    \n",
    "    \n",
    "    \n",
    "    m.optimize()\n",
    "    \n",
    "    #########################################################################################\n",
    "    ################################## Display Results ######################################\n",
    "    #########################################################################################    \n",
    "    displayDecisionVars(m, end_sentinel=\"6\")\n",
    "    \n",
    "    print(\"\\n-------------Does it make sense?----------------------\")  \n",
    "    print('Obj: {:.2f}'.format(m.ObjVal))\n",
    "    \n",
    "    \n",
    "# catch some math errors\n",
    "except gp.GurobiError as e:\n",
    "    print('Error code ' + str(e.errno) + ': ' + str(e))\n",
    "\n",
    "except AttributeError:\n",
    "    print('Encountered an attribute error')"
   ]
  },
  {
   "cell_type": "markdown",
   "metadata": {},
   "source": [
    "# <a id=solution><center>Solution Discussion</center></a>"
   ]
  },
  {
   "cell_type": "markdown",
   "metadata": {},
   "source": [
    "> The solution...."
   ]
  },
  {
   "cell_type": "code",
   "execution_count": null,
   "metadata": {},
   "outputs": [],
   "source": [
    "to_PDF(\"notebook_title\")"
   ]
  }
 ],
 "metadata": {
  "kernelspec": {
   "display_name": "Python 3 (ipykernel)",
   "language": "python",
   "name": "python3"
  },
  "language_info": {
   "codemirror_mode": {
    "name": "ipython",
    "version": 3
   },
   "file_extension": ".py",
   "mimetype": "text/x-python",
   "name": "python",
   "nbconvert_exporter": "python",
   "pygments_lexer": "ipython3",
   "version": "3.9.6"
  }
 },
 "nbformat": 4,
 "nbformat_minor": 1
}
