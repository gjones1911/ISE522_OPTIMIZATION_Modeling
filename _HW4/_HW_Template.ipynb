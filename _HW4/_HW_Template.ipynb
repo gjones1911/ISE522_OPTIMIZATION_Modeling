{
 "cells": [
  {
   "cell_type": "markdown",
   "metadata": {
    "collapsed": true
   },
   "source": [
    "# <span style=\"color:cornflowerblue\"> Gerald Jones</span>\n",
    "# <span style=\"color:cornflowerblue\"> Home Work :</span>\n",
    "# <span style=\"color:cornflowerblue\"> ISE522 Spg 22</span>\n",
    "\n",
    "## Notebook Links:\n",
    "1. [Data Display section](#Data-Display): Display of Data for warehouses and customers\n",
    "2. [Model Formulation](#Model-Formulation): Mathematical formulation of problem\n",
    "3. [Method Definitions](#Method-Definitions): Python code for various tasks\n",
    "4. [Gurobi Implementation](#implementation):  Definition and omptimization with python and Gurobi\n",
    "5. [Solution Discussion](#solution): A discussion and explanation of the solution\n",
    "\n",
    "## Problem Description:\n",
    "> A \n",
    "\n",
    "## Notes and Observations\n",
    "\n",
    "\n",
    "## Assumptions:\n"
   ]
  },
  {
   "cell_type": "markdown",
   "metadata": {},
   "source": [
    "# <span style=\"color:orange\"><center><b>Module imports and data loading</b></center></span>"
   ]
  },
  {
   "cell_type": "code",
   "execution_count": 1,
   "metadata": {},
   "outputs": [
    {
     "data": {
      "text/plain": "<IPython.core.display.Javascript object>",
      "application/javascript": "\nconsole.log('Starting front end url_querystring_target comm target');\nconst comm = Jupyter.notebook.kernel.comm_manager.new_comm('url_querystring_target', {'init': 1});\ncomm.send({'ipyparams_browser_url': window.location.href});\nconsole.log('Sent window.location.href on url_querystring_target comm target');\n\ncomm.on_msg(function(msg) {\n    console.log(msg.content.data);\n});\n"
     },
     "metadata": {},
     "output_type": "display_data"
    }
   ],
   "source": [
    "from _GUROBI_TOOLS_.GUROBI_MODEL_BUILDING_TOOLS import *\n",
    "from _NOTE_BOOK_UTILS import *\n",
    "notebook_name = \"\"\n"
   ]
  },
  {
   "cell_type": "markdown",
   "metadata": {},
   "source": [
    "# <a id=Data-Display><span style=\"color:Green\"><center> Data Display</center></span></a>"
   ]
  },
  {
   "cell_type": "code",
   "execution_count": 3,
   "metadata": {},
   "outputs": [],
   "source": [
    "# display data for problem"
   ]
  },
  {
   "cell_type": "markdown",
   "metadata": {},
   "source": [
    "# <a id=Model-Formulation><center> <span style=\"color:blue\"> Model Formulation</span> </center></a>\n",
    "* [Paremeters and Sets](#Parameters-and-Sets)\n",
    "* [Variables](#Variables)\n",
    "* [Equations and Constraints](#Equations-and-Constraints)\n",
    "* [Objective](#Objective)"
   ]
  },
  {
   "cell_type": "markdown",
   "metadata": {},
   "source": [
    "## <a id=Parameters-and-Sets><span style=\"color:DarkBlue\">Parameters and Sets:</span></a>"
   ]
  },
  {
   "cell_type": "markdown",
   "metadata": {},
   "source": [
    "### $\\textbf{W}  \\quad \\quad \\quad \\text{set of warehouses, } w \\in \\textbf{W}$ "
   ]
  },
  {
   "cell_type": "markdown",
   "metadata": {},
   "source": [
    "## <a id=Variables><span style=\"color:DarkBlue\">Variables:</span></a>"
   ]
  },
  {
   "cell_type": "markdown",
   "metadata": {},
   "source": [
    "### $X_{w,c} \\quad  \\text{     amount from warehouse w supplied to customer } c$ "
   ]
  },
  {
   "cell_type": "markdown",
   "metadata": {},
   "source": [
    "## <a id=Equations-and-Constraints><span style=\"color:DarkBlue\">Equations and Constraints:</span></a>"
   ]
  },
  {
   "cell_type": "markdown",
   "metadata": {},
   "source": [
    ">### <center><span style=\"font-size:30px;color:red\"><b>Equation </b></span></center>"
   ]
  },
  {
   "cell_type": "markdown",
   "metadata": {},
   "source": [
    "# $$0 \\leq \\quad \\sum_{c=1}^{|C|}X_{w,c} \\quad  \\leq H_{w}, \\forall w$$"
   ]
  },
  {
   "cell_type": "markdown",
   "metadata": {},
   "source": [
    "## <a id=Objective><span style=\"color:green\">Objective: </span></a>"
   ]
  },
  {
   "cell_type": "markdown",
   "metadata": {},
   "source": [
    "# $$\\min(T = N + M)$$"
   ]
  },
  {
   "cell_type": "markdown",
   "metadata": {},
   "source": [
    "# <a id=Method-definitions><center>Method Definitions</center></a>"
   ]
  },
  {
   "cell_type": "code",
   "execution_count": 2,
   "metadata": {},
   "outputs": [],
   "source": [
    "# generate objective\n",
    "\n",
    "# generate constraints\n",
    "\n"
   ]
  },
  {
   "cell_type": "markdown",
   "metadata": {},
   "source": [
    "# <a id=implementation><center>Gurobi Implementation and Solution</center></a>"
   ]
  },
  {
   "cell_type": "code",
   "execution_count": null,
   "metadata": {},
   "outputs": [],
   "source": [
    "try:\n",
    "    # instantiate model object \n",
    "    m = gp.Model(\"G_MOD\")\n",
    " \n",
    "    \n",
    "    \n",
    "    #########################################################################################\n",
    "    ################################## Parameters set up ####################################\n",
    "    #########################################################################################\n",
    "\n",
    "    #########################################################################################\n",
    "    ################################## Variables set up #####################################\n",
    "    #########################################################################################\n",
    "\n",
    "    \n",
    "    #########################################################################################\n",
    "    ################################## Objective set up #####################################\n",
    "    #########################################################################################    \n",
    "    \n",
    "    #########################################################################################\n",
    "    ################################## Constraint set up ####################################\n",
    "    #########################################################################################\n",
    "    \n",
    "    \n",
    "    #########################################################################################\n",
    "    ################################## SOLVE:OPTIMIZE #######################################\n",
    "    #########################################################################################    \n",
    "    \n",
    "    \n",
    "    m.optimize()\n",
    "    \n",
    "    #########################################################################################\n",
    "    ################################## Display Results ######################################\n",
    "    #########################################################################################    \n",
    "    displayDecisionVars(m, end_sentinel=\"6\")\n",
    "    \n",
    "    print(\"\\n-------------Does it make sense?----------------------\")  \n",
    "    print('Obj: {:.2f}'.format(m.ObjVal))\n",
    "    \n",
    "    \n",
    "# catch some math errors\n",
    "except gp.GurobiError as e:\n",
    "    print('Error code ' + str(e.errno) + ': ' + str(e))\n",
    "\n",
    "except AttributeError:\n",
    "    print('Encountered an attribute error')"
   ]
  },
  {
   "cell_type": "markdown",
   "metadata": {},
   "source": [
    "# <a id=solution><span style=\"color:crimson\"><center>Solution Discussion</center></a>"
   ]
  },
  {
   "cell_type": "markdown",
   "metadata": {},
   "source": [
    "> The solution...."
   ]
  },
  {
   "cell_type": "code",
   "execution_count": null,
   "metadata": {},
   "outputs": [],
   "source": [
    "# save the notebook as a pdf\n",
    "# to_PDF(notebook_name)"
   ]
  }
 ],
 "metadata": {
  "kernelspec": {
   "display_name": "Python 3 (ipykernel)",
   "language": "python",
   "name": "python3"
  },
  "language_info": {
   "codemirror_mode": {
    "name": "ipython",
    "version": 3
   },
   "file_extension": ".py",
   "mimetype": "text/x-python",
   "name": "python",
   "nbconvert_exporter": "python",
   "pygments_lexer": "ipython3",
   "version": "3.9.6"
  }
 },
 "nbformat": 4,
 "nbformat_minor": 1
}