{
 "cells": [
  {
   "cell_type": "markdown",
   "metadata": {
    "collapsed": true
   },
   "source": [
    "# <span style=\"color:cornflowerblue\"> Gerald Jones, Kimon Swanson, Alex Hines</span>\n",
    "# <span style=\"color:cornflowerblue\"> Home Work 4, Problem 2: Swimmer to Swim Stroke Assignment</span>\n",
    "# <span style=\"color:cornflowerblue\"> ISE522 Spg 22</span>\n",
    "\n",
    "## Notebook Links/Sections:\n",
    "1. [Data Display section](#Data-Display): Display of Data for warehouses and customers\n",
    "2. [Model Formulation](#Model-Formulation): Mathematical formulation of problem\n",
    "3. [Method Definitions](#Method-Definitions): Python code for various tasks\n",
    "4. [Gurobi Implementation](#implementation):  Definition and omptimization with python and Gurobi\n",
    "5. [Solution Discussion](#solution): A discussion and explanation of the solution\n",
    "\n",
    "## Problem Description:\n",
    "> A decision needs to be made about which of a team of swimmers will be assigned to compete in which type of swimming stroke style based on their expected times for each. There are 4 swimmers as shown in the [Data Display section](#Data-Display) with the shown times in seconds for each of the four different types of stroke. The task requires that each swimmer be assigned to one of the swimming stroke competitions that will lead to the minimum cumulative time for the team. \n",
    "\n",
    "## Notes and Observations\n",
    "* quick ad hoc solution would be just assign based on the lowest swim time for each stroke type\n",
    "\n",
    "## Assumptions:\n"
   ]
  },
  {
   "cell_type": "markdown",
   "metadata": {},
   "source": [
    "# <span style=\"color:orange\"><center><b>Module imports and data loading</b></center></span>"
   ]
  },
  {
   "cell_type": "code",
   "execution_count": 1,
   "metadata": {},
   "outputs": [
    {
     "data": {
      "application/javascript": [
       "\n",
       "console.log('Starting front end url_querystring_target comm target');\n",
       "const comm = Jupyter.notebook.kernel.comm_manager.new_comm('url_querystring_target', {'init': 1});\n",
       "comm.send({'ipyparams_browser_url': window.location.href});\n",
       "console.log('Sent window.location.href on url_querystring_target comm target');\n",
       "\n",
       "comm.on_msg(function(msg) {\n",
       "    console.log(msg.content.data);\n",
       "});\n"
      ],
      "text/plain": [
       "<IPython.core.display.Javascript object>"
      ]
     },
     "metadata": {},
     "output_type": "display_data"
    }
   ],
   "source": [
    "from _GUROBI_TOOLS_.GUROBI_MODEL_BUILDING_TOOLS import *\n",
    "from _NOTE_BOOK_UTILS import *\n",
    "notebook_name = \"_HW4_Problem2.ipynb\"\n",
    "\n",
    "# define dataframe for swimmer data\n",
    "swimmer_df = pd.DataFrame(\n",
    "    {\n",
    "        \"Swimmer\":[\"Gary Hall\", \"Mark Spitz\", \"Jim Montgomery\", \"Chet Jastremski\"],\n",
    "        \"Free\":[54, 51, 50, 56,],\n",
    "        \"Breast\":[54, 57, 53, 54],\n",
    "        \"Fly\":[51, 52, 54, 55],\n",
    "        \"Back\":[53, 52, 56, 53],\n",
    "    }\n",
    ")\n"
   ]
  },
  {
   "cell_type": "markdown",
   "metadata": {},
   "source": [
    "# <a id=Data-Display><span style=\"color:Green\"><center> Data Display</center></span></a>"
   ]
  },
  {
   "cell_type": "code",
   "execution_count": 2,
   "metadata": {},
   "outputs": [
    {
     "data": {
      "text/html": [
       "<div>\n",
       "<style scoped>\n",
       "    .dataframe tbody tr th:only-of-type {\n",
       "        vertical-align: middle;\n",
       "    }\n",
       "\n",
       "    .dataframe tbody tr th {\n",
       "        vertical-align: top;\n",
       "    }\n",
       "\n",
       "    .dataframe thead th {\n",
       "        text-align: right;\n",
       "    }\n",
       "</style>\n",
       "<table border=\"1\" class=\"dataframe\">\n",
       "  <thead>\n",
       "    <tr style=\"text-align: right;\">\n",
       "      <th></th>\n",
       "      <th>Swimmer</th>\n",
       "      <th>Free</th>\n",
       "      <th>Breast</th>\n",
       "      <th>Fly</th>\n",
       "      <th>Back</th>\n",
       "    </tr>\n",
       "  </thead>\n",
       "  <tbody>\n",
       "    <tr>\n",
       "      <th>0</th>\n",
       "      <td>Gary Hall</td>\n",
       "      <td>54</td>\n",
       "      <td>54</td>\n",
       "      <td>51</td>\n",
       "      <td>53</td>\n",
       "    </tr>\n",
       "    <tr>\n",
       "      <th>1</th>\n",
       "      <td>Mark Spitz</td>\n",
       "      <td>51</td>\n",
       "      <td>57</td>\n",
       "      <td>52</td>\n",
       "      <td>52</td>\n",
       "    </tr>\n",
       "    <tr>\n",
       "      <th>2</th>\n",
       "      <td>Jim Montgomery</td>\n",
       "      <td>50</td>\n",
       "      <td>53</td>\n",
       "      <td>54</td>\n",
       "      <td>56</td>\n",
       "    </tr>\n",
       "    <tr>\n",
       "      <th>3</th>\n",
       "      <td>Chet Jastremski</td>\n",
       "      <td>56</td>\n",
       "      <td>54</td>\n",
       "      <td>55</td>\n",
       "      <td>53</td>\n",
       "    </tr>\n",
       "  </tbody>\n",
       "</table>\n",
       "</div>"
      ],
      "text/plain": [
       "           Swimmer  Free  Breast  Fly  Back\n",
       "0        Gary Hall    54      54   51    53\n",
       "1       Mark Spitz    51      57   52    52\n",
       "2   Jim Montgomery    50      53   54    56\n",
       "3  Chet Jastremski    56      54   55    53"
      ]
     },
     "metadata": {},
     "output_type": "display_data"
    }
   ],
   "source": [
    "# display data for problem\n",
    "display(swimmer_df)"
   ]
  },
  {
   "cell_type": "markdown",
   "metadata": {},
   "source": [
    "# <a id=Model-Formulation><center> <span style=\"color:blue\"> Model Formulation</span> </center></a>\n",
    "* [Paremeters and Sets](#Parameters-and-Sets)\n",
    "* [Variables](#Variables)\n",
    "* [Equations and Constraints](#Equations-and-Constraints)\n",
    "* [Objective](#Objective)"
   ]
  },
  {
   "cell_type": "markdown",
   "metadata": {},
   "source": [
    "## <a id=Parameters-and-Sets><span style=\"color:DarkBlue\">Parameters and Sets:</span></a>"
   ]
  },
  {
   "cell_type": "markdown",
   "metadata": {},
   "source": [
    "### $\\textbf{M}  \\quad \\quad \\quad \\text{set of team members, } m \\in \\textbf{M}$ \n",
    "### $\\textbf{S}  \\quad \\quad \\quad \\text{set of swimming strokes, } s \\in \\textbf{S}$\n",
    "### $\\textbf{$T_{m,s}$}  \\quad \\quad \\quad \\text{expected time for member m in stroke s, }$"
   ]
  },
  {
   "cell_type": "markdown",
   "metadata": {},
   "source": [
    "## <a id=Variables><span style=\"color:DarkBlue\">Variables:</span></a>"
   ]
  },
  {
   "cell_type": "markdown",
   "metadata": {},
   "source": [
    "### $X_{m,s} \\quad  \\text{ 1 if member m is assigned to stroke }s, \\text{0 otherwise}$ "
   ]
  },
  {
   "cell_type": "markdown",
   "metadata": {},
   "source": [
    "## <a id=Equations-and-Constraints><span style=\"color:DarkBlue\">Equations and Constraints:</span></a>"
   ]
  },
  {
   "cell_type": "markdown",
   "metadata": {},
   "source": [
    ">### <center><span style=\"font-size:30px;color:red\"><b>Member assigned to single stroke Constraint</b></span></center>"
   ]
  },
  {
   "cell_type": "markdown",
   "metadata": {},
   "source": [
    "# $$\\sum_{s=1}^{|S|}X_{m,s} = 1,\\text{ } \\forall w, s$$"
   ]
  },
  {
   "cell_type": "markdown",
   "metadata": {},
   "source": [
    ">### <center><span style=\"font-size:30px;color:red\"><b>Single Member assigned to a stroke Constraint</b></span></center>"
   ]
  },
  {
   "cell_type": "markdown",
   "metadata": {},
   "source": [
    "# $$X_{a,s}  + X_{b,s} \\leq  1,\\text{ } \\forall a,b,s  \\text{ where a != b, } \\{a,b\\} \\subset M, \\text{ } s \\in S$$"
   ]
  },
  {
   "cell_type": "markdown",
   "metadata": {},
   "source": [
    "## <a id=Objective><span style=\"color:green\">Objective: </span></a>"
   ]
  },
  {
   "cell_type": "markdown",
   "metadata": {},
   "source": [
    "# $$\\min(\\sum_{m=1}^{|M|}\\sum_{s=1}^{|S|} X_{m,s} \\cdot T_{m,s})$$"
   ]
  },
  {
   "cell_type": "markdown",
   "metadata": {},
   "source": [
    "# <a id=Method-definitions><center>Method Definitions</center></a>"
   ]
  },
  {
   "cell_type": "code",
   "execution_count": 3,
   "metadata": {},
   "outputs": [],
   "source": [
    "# generate objective\n",
    "def generate_total_swim_time(model, X, T, M, S):\n",
    "    expression = 0\n",
    "    for m in range(M):\n",
    "        for s in range(S):\n",
    "            expression += X[m,s] * T[m,s]\n",
    "    return expression\n",
    "\n",
    "\n",
    "\n",
    "# generate constraints\n",
    "def member_assigment_constraint(model, X, M, S):\n",
    "    # for each member\n",
    "    for m in range(M):\n",
    "        expression = 0\n",
    "        # ensure that only one of its binary selectors is 1\n",
    "        for s in range(S):\n",
    "            expression += X[m, s]\n",
    "        model.addConstr(expression == 1)\n",
    "    return\n",
    "\n",
    "def single_member_assignment_constraint(model, X, M, S):\n",
    "    # for each stroke\n",
    "    for s in range(S):\n",
    "        expression = 0\n",
    "        # ensure that only one member of the team can be assigned at once\n",
    "        for m in range(M):\n",
    "            # only one member can be assigned to the current stroke\n",
    "            # by ensuring the maximum of the sum of the binary variables is 1\n",
    "            for m2 in range(M):\n",
    "                if m != m2:\n",
    "                    model.addConstr(X[m, s] + X[m2, s] <= 1)\n",
    "                    model.addConstr(X[m, s] + X[m2, s] >= 0)\n",
    "    return"
   ]
  },
  {
   "cell_type": "markdown",
   "metadata": {},
   "source": [
    "# <a id=implementation><center>Gurobi Implementation and Solution</center></a>"
   ]
  },
  {
   "cell_type": "code",
   "execution_count": 4,
   "metadata": {},
   "outputs": [
    {
     "name": "stdout",
     "output_type": "stream",
     "text": [
      "Restricted license - for non-production use only - expires 2023-10-25\n",
      "[[54 54 51 53]\n",
      " [51 57 52 52]\n",
      " [50 53 54 56]\n",
      " [56 54 55 53]]\n",
      "['Free', 'Breast', 'Fly', 'Back']\n",
      "['Gary Hall', 'Mark Spitz', 'Jim Montgomery', 'Chet Jastremski']\n",
      "Gurobi Optimizer version 9.5.0 build v9.5.0rc5 (win64)\n",
      "Thread count: 6 physical cores, 12 logical processors, using up to 12 threads\n",
      "Optimize a model with 100 rows, 16 columns and 208 nonzeros\n",
      "Model fingerprint: 0x3f5585a7\n",
      "Variable types: 0 continuous, 16 integer (16 binary)\n",
      "Coefficient statistics:\n",
      "  Matrix range     [1e+00, 1e+00]\n",
      "  Objective range  [5e+01, 6e+01]\n",
      "  Bounds range     [1e+00, 1e+00]\n",
      "  RHS range        [1e+00, 1e+00]\n",
      "Found heuristic solution: objective 208.0000000\n",
      "Presolve removed 92 rows and 0 columns\n",
      "Presolve time: 0.00s\n",
      "Presolved: 8 rows, 16 columns, 32 nonzeros\n",
      "Variable types: 0 continuous, 16 integer (16 binary)\n",
      "\n",
      "Root relaxation: objective 2.070000e+02, 7 iterations, 0.00 seconds (0.00 work units)\n",
      "\n",
      "    Nodes    |    Current Node    |     Objective Bounds      |     Work\n",
      " Expl Unexpl |  Obj  Depth IntInf | Incumbent    BestBd   Gap | It/Node Time\n",
      "\n",
      "*    0     0               0     207.0000000  207.00000  0.00%     -    0s\n",
      "\n",
      "Explored 1 nodes (7 simplex iterations) in 0.01 seconds (0.00 work units)\n",
      "Thread count was 12 (of 12 available processors)\n",
      "\n",
      "Solution count 2: 207 208 \n",
      "\n",
      "Optimal solution found (tolerance 1.00e-04)\n",
      "Best objective 2.070000000000e+02, best bound 2.070000000000e+02, gap 0.0000%\n",
      "X[0,0] -0.00000\n",
      "X[0,1] -0.00000\n",
      "X[0,2] 1.00000\n",
      "X[0,3] -0.00000\n",
      "\n",
      "X[1,0] 0.00000\n",
      "X[1,1] -0.00000\n",
      "X[1,2] 0.00000\n",
      "X[1,3] 1.00000\n",
      "\n",
      "X[2,0] 1.00000\n",
      "X[2,1] -0.00000\n",
      "X[2,2] -0.00000\n",
      "X[2,3] -0.00000\n",
      "\n",
      "X[3,0] -0.00000\n",
      "X[3,1] 1.00000\n",
      "X[3,2] -0.00000\n",
      "X[3,3] 0.00000\n",
      "\n",
      "-------------------------------------\n",
      "\n",
      "\n",
      "\n",
      "-------------Does it make sense?----------------------\n",
      "Obj: 207.00\n"
     ]
    }
   ],
   "source": [
    "try:\n",
    "    # instantiate model object \n",
    "    m = gp.Model(\"G_MOD\")\n",
    " \n",
    "    \n",
    "    #########################################################################################\n",
    "    ################################## Parameters set up ####################################\n",
    "    #########################################################################################\n",
    "    M = len(swimmer_df)\n",
    "    Tms = swimmer_df.loc[:, \"Free\":\"Back\"].values\n",
    "    swim_strokes = swimmer_df.loc[:, \"Free\":\"Back\"].columns.tolist()\n",
    "    S = len(swim_strokes)\n",
    "    swimmers = swimmer_df.loc[:, \"Swimmer\"].tolist()\n",
    "    print(Tms)\n",
    "    print(swim_strokes)\n",
    "    print(swimmers)\n",
    "\n",
    "    #########################################################################################\n",
    "    ################################## Variables set up #####################################\n",
    "    #########################################################################################\n",
    "    Xms = m.addVars(len(swimmers), len(swim_strokes), vtype=GRB.BINARY, name=\"X\", lb=0, ub=1)\n",
    "    \n",
    "    #########################################################################################\n",
    "    ################################## Objective set up #####################################\n",
    "    #########################################################################################    \n",
    "    m.setObjective(generate_total_swim_time(m, Xms, Tms, M, S), GRB.MINIMIZE)\n",
    "    \n",
    "    #########################################################################################\n",
    "    ################################## Constraint set up ####################################\n",
    "    #########################################################################################\n",
    "    member_assigment_constraint(m, Xms, M, S)\n",
    "    single_member_assignment_constraint(m, Xms, M, S)\n",
    "    #########################################################################################\n",
    "    ################################## SOLVE:OPTIMIZE #######################################\n",
    "    #########################################################################################    \n",
    "    \n",
    "    \n",
    "    m.optimize()\n",
    "    \n",
    "    #########################################################################################\n",
    "    ################################## Display Results ######################################\n",
    "    #########################################################################################    \n",
    "    displayDecisionVars(m, end_sentinel=\",3\")\n",
    "    \n",
    "    print(\"\\n-------------Does it make sense?----------------------\")  \n",
    "    print('Obj: {:.2f}'.format(m.ObjVal))\n",
    "    \n",
    "    \n",
    "# catch some math errors\n",
    "except gp.GurobiError as e:\n",
    "    print('Error code ' + str(e.errno) + ': ' + str(e))\n",
    "\n",
    "except AttributeError:\n",
    "    print('Encountered an attribute error')"
   ]
  },
  {
   "cell_type": "markdown",
   "metadata": {},
   "source": [
    "# <a id=solution><span style=\"color:crimson\"><center>Solution Discussion</center></a>"
   ]
  },
  {
   "cell_type": "markdown",
   "metadata": {},
   "source": [
    "> ## The solution....\n",
    "> The problem requires the optimal assignment of team member to swimming stroke to get the minimum overall time. A logical approach would be to assign team members based on which has the lowest time for a given stroke. Looking down each column in the shown data the member with the lowest time for that column would be assigned that stroke. The assignment would go from the lowest overall chosen time to the largest. This would lead to Jim assigned to the Free stroke, Gary being assigned to the Fly stroke, Mark being assigned to the Back stroke, and since Jim is already assigned to the free stroke Chet is assigned to the Breast stroke. The solution generated by Gurobi does this exactly.\n",
    "\n",
    "> ### The optimal solution generated by the implemented model suggests to:\n",
    "> * assign <b>Jim Montegomery</b> to the <b>Free  stroke</b> (50 s) \n",
    "> * assign <b>Gary  Hall</b> to the <b>Fly stroke</b> (51 s)\n",
    "> * assign <b>Mark Spitz</b> to the <b>Back stroke</b> (52 s)\n",
    "> * assign <b>Chet Jastremski</b> to the <b>Breast stroke</b> (54 s)\n",
    "> * <b>This leads to an overall team time of 50 + 51 + 52 + 54 = 207 seconds</b>"
   ]
  },
  {
   "cell_type": "code",
   "execution_count": 5,
   "metadata": {},
   "outputs": [
    {
     "name": "stdout",
     "output_type": "stream",
     "text": [
      "filename: _HW4_Problem2.ipynb\n"
     ]
    }
   ],
   "source": [
    "# save the notebook as a pdf\n",
    "to_PDF(notebook_name)"
   ]
  }
 ],
 "metadata": {
  "kernelspec": {
   "display_name": "Python 3 (ipykernel)",
   "language": "python",
   "name": "python3"
  },
  "language_info": {
   "codemirror_mode": {
    "name": "ipython",
    "version": 3
   },
   "file_extension": ".py",
   "mimetype": "text/x-python",
   "name": "python",
   "nbconvert_exporter": "python",
   "pygments_lexer": "ipython3",
   "version": "3.9.6"
  }
 },
 "nbformat": 4,
 "nbformat_minor": 1
}