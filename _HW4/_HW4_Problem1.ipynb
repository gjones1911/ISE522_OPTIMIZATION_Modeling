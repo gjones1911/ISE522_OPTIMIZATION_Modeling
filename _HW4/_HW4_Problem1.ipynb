{
 "cells": [
  {
   "cell_type": "markdown",
   "metadata": {
    "collapsed": true
   },
   "source": [
    "# <span style=\"color:cornflowerblue\"> Gerald Jones, Kimon Swanson, Alex Hines</span>\n",
    "# <span style=\"color:cornflowerblue\"> Home Work 4, Problem 1: Balanced Transportion Problem</span>\n",
    "# <span style=\"color:cornflowerblue\"> ISE522 Spg 22</span>\n",
    "\n",
    "## Notebook Links/Sections:\n",
    "1. [Data Display section](#Data-Display): Display of Data for warehouses and customers\n",
    "2. [Model Formulation](#Model-Formulation): Mathematical formulation of problem\n",
    "3. [Method Definitions](#Method-Definitions): Python code for various tasks\n",
    "4. [Gurobi Implementation](#implementation):  Definition and omptimization with python and Gurobi\n",
    "5. [Solution Discussion](#solution): A discussion and explanation of the solution\n",
    "\n",
    "## Problem Description:\n",
    "> A company supplies goods to <b>three customers</b>, who <b>each demand 30 units</b>. The company has <b>two warehouses</b>. <b>Warehouse 1 has 40 units</b> on hand and <b>Warehouse 2 has 30</b>. The <b>costs of shipping 1 unit from warehouse to a given customer are shown in the table displayed below in the [Data Display section](#Data-Display) </b>. There is a <b>penalty for unmet demand</b> that is <b>specific to each customer</b> and these are also displayed in the [Data Display section](#Data-Display). The task is to formulate this blanced transportation problem to <b>minimize the sum of the shortage and shipping costs</b>.\n",
    "\n",
    "## Notes and Observations\n",
    "* total supply across all locataion is less than total demand\n",
    "* confilcting objectives:\n",
    "    * increasing supply increases cost\n",
    "    * not supplying what is demanded increases cost\n",
    "* means need just the right amounts supplied from each warehouse to customer to get optimal solution\n",
    "\n",
    "\n",
    "## Assumptions:\n",
    "* units are integer values i.e. the smallest value of units above zero is 1\n",
    "* Customers can be supplied by multiple warehouses to meet demands"
   ]
  },
  {
   "cell_type": "markdown",
   "metadata": {},
   "source": [
    "# <span style=\"color:orange\"><center><b>Module imports and data loading</b></center></span>"
   ]
  },
  {
   "cell_type": "code",
   "execution_count": 1,
   "metadata": {},
   "outputs": [
    {
     "data": {
      "application/javascript": [
       "\n",
       "console.log('Starting front end url_querystring_target comm target');\n",
       "const comm = Jupyter.notebook.kernel.comm_manager.new_comm('url_querystring_target', {'init': 1});\n",
       "comm.send({'ipyparams_browser_url': window.location.href});\n",
       "console.log('Sent window.location.href on url_querystring_target comm target');\n",
       "\n",
       "comm.on_msg(function(msg) {\n",
       "    console.log(msg.content.data);\n",
       "});\n"
      ],
      "text/plain": [
       "<IPython.core.display.Javascript object>"
      ]
     },
     "metadata": {},
     "output_type": "display_data"
    }
   ],
   "source": [
    "from _GUROBI_TOOLS_.GUROBI_MODEL_BUILDING_TOOLS import *\n",
    "from _NOTE_BOOK_UTILS import *\n",
    "\n",
    "notebook_title = \"_HW4_Problem1.ipynb\"\n",
    "\n",
    "try:\n",
    "    data_file1 = \"WarehouseData.xlsx\"\n",
    "    data_file2 = \"CustomerPenaltyData.xlsx\"\n",
    "    warehouse_df = pd.read_excel(data_file1)\n",
    "    customer_df = pd.read_excel(data_file2)\n",
    "except Exception as ex:\n",
    "    print(\"error loading file\")\n",
    "    print(\"Exception: {}\".format(ex))"
   ]
  },
  {
   "cell_type": "markdown",
   "metadata": {},
   "source": [
    "# <a id=Data-Display><span style=\"color:Green\"><center> Data Display</center></span></a>"
   ]
  },
  {
   "cell_type": "code",
   "execution_count": 2,
   "metadata": {},
   "outputs": [
    {
     "name": "stdout",
     "output_type": "stream",
     "text": [
      "\t\t\t\tWarehouse Data\n"
     ]
    },
    {
     "data": {
      "text/html": [
       "<div>\n",
       "<style scoped>\n",
       "    .dataframe tbody tr th:only-of-type {\n",
       "        vertical-align: middle;\n",
       "    }\n",
       "\n",
       "    .dataframe tbody tr th {\n",
       "        vertical-align: top;\n",
       "    }\n",
       "\n",
       "    .dataframe thead th {\n",
       "        text-align: right;\n",
       "    }\n",
       "</style>\n",
       "<table border=\"1\" class=\"dataframe\">\n",
       "  <thead>\n",
       "    <tr style=\"text-align: right;\">\n",
       "      <th></th>\n",
       "      <th>Warehouse</th>\n",
       "      <th>Customer-1</th>\n",
       "      <th>Customer-2</th>\n",
       "      <th>Customer-3</th>\n",
       "    </tr>\n",
       "  </thead>\n",
       "  <tbody>\n",
       "    <tr>\n",
       "      <th>0</th>\n",
       "      <td>1</td>\n",
       "      <td>15</td>\n",
       "      <td>35</td>\n",
       "      <td>25</td>\n",
       "    </tr>\n",
       "    <tr>\n",
       "      <th>1</th>\n",
       "      <td>2</td>\n",
       "      <td>10</td>\n",
       "      <td>50</td>\n",
       "      <td>40</td>\n",
       "    </tr>\n",
       "  </tbody>\n",
       "</table>\n",
       "</div>"
      ],
      "text/plain": [
       "   Warehouse  Customer-1  Customer-2  Customer-3\n",
       "0          1          15          35          25\n",
       "1          2          10          50          40"
      ]
     },
     "metadata": {},
     "output_type": "display_data"
    },
    {
     "name": "stdout",
     "output_type": "stream",
     "text": [
      "\t\t\t\tCustomer Data\n"
     ]
    },
    {
     "data": {
      "text/html": [
       "<div>\n",
       "<style scoped>\n",
       "    .dataframe tbody tr th:only-of-type {\n",
       "        vertical-align: middle;\n",
       "    }\n",
       "\n",
       "    .dataframe tbody tr th {\n",
       "        vertical-align: top;\n",
       "    }\n",
       "\n",
       "    .dataframe thead th {\n",
       "        text-align: right;\n",
       "    }\n",
       "</style>\n",
       "<table border=\"1\" class=\"dataframe\">\n",
       "  <thead>\n",
       "    <tr style=\"text-align: right;\">\n",
       "      <th></th>\n",
       "      <th>Customer</th>\n",
       "      <th>Penalty</th>\n",
       "    </tr>\n",
       "  </thead>\n",
       "  <tbody>\n",
       "    <tr>\n",
       "      <th>0</th>\n",
       "      <td>1</td>\n",
       "      <td>90</td>\n",
       "    </tr>\n",
       "    <tr>\n",
       "      <th>1</th>\n",
       "      <td>2</td>\n",
       "      <td>80</td>\n",
       "    </tr>\n",
       "    <tr>\n",
       "      <th>2</th>\n",
       "      <td>3</td>\n",
       "      <td>110</td>\n",
       "    </tr>\n",
       "  </tbody>\n",
       "</table>\n",
       "</div>"
      ],
      "text/plain": [
       "   Customer  Penalty\n",
       "0         1       90\n",
       "1         2       80\n",
       "2         3      110"
      ]
     },
     "metadata": {},
     "output_type": "display_data"
    }
   ],
   "source": [
    "print(\"\\t\\t\\t\\tWarehouse Data\")\n",
    "display(warehouse_df)\n",
    "print(\"\\t\\t\\t\\tCustomer Data\")\n",
    "display(customer_df)"
   ]
  },
  {
   "cell_type": "markdown",
   "metadata": {},
   "source": [
    "# <a id=Model-Formulation><center> <span style=\"color:blue\"> Model Formulation</span> </center></a>\n",
    "### Model Formulation Links/Sections:\n",
    "* [Paremeters and Sets](#Parameters-and-Sets)\n",
    "* [Variables](#Variables)\n",
    "* [Equations and Constraints](#Equations-and-Constraints)\n",
    "* [Objective](#Objective)"
   ]
  },
  {
   "cell_type": "markdown",
   "metadata": {},
   "source": [
    "## <a id=Parameters-and-Sets><span style=\"color:DarkBlue\">Parameters and Sets:</span></a>"
   ]
  },
  {
   "cell_type": "markdown",
   "metadata": {},
   "source": [
    "### $\\textbf{W}  \\quad \\quad \\quad \\text{set of warehouses, } w \\in \\textbf{W}$ \n",
    "### $\\textbf{C} \\quad \\quad \\quad \\text{set of customers, } c \\in \\textbf{C}$ \n",
    "### $D_{c} \\quad \\quad \\quad \\text{ demand for customer } c$\n",
    "### $P_{c} \\quad \\quad \\quad \\text{ unmet penalty for customer } c$\n",
    "### $H_{w} \\quad \\quad \\quad \\text{amount on hand for warehouse } w$\n",
    "### $S_{w,c} \\quad \\quad \\text{shipping costs for warehouse } w \\text{ to customer } c$"
   ]
  },
  {
   "cell_type": "markdown",
   "metadata": {},
   "source": [
    "## <a id=Variables><span style=\"color:DarkBlue\">Variables:</span></a>"
   ]
  },
  {
   "cell_type": "markdown",
   "metadata": {},
   "source": [
    "### $X_{w,c} \\quad  \\text{     amount from warehouse w supplied to customer } c$ \n",
    "### $Y_{c} \\quad \\quad   \\text{    unmet demand for customer } c$\n",
    "### $M \\quad  \\text{     total supply cost for warehouse} $ \n",
    "### $N \\quad  \\text{     total unmet demand cost}$ "
   ]
  },
  {
   "cell_type": "markdown",
   "metadata": {},
   "source": [
    "## <a id=Equations-and-Constraints><span style=\"color:DarkBlue\">Equations and Constraints:</span></a>"
   ]
  },
  {
   "cell_type": "markdown",
   "metadata": {},
   "source": [
    ">### <center><span style=\"font-size:30px;color:red\"><b>Total units supplied by warehouse $w$ constraint</b></span></center>"
   ]
  },
  {
   "cell_type": "markdown",
   "metadata": {},
   "source": [
    "# $$0 \\leq \\quad \\sum_{c=1}^{|C|}X_{w,c} \\quad  \\leq H_{w}, \\forall w$$"
   ]
  },
  {
   "cell_type": "markdown",
   "metadata": {},
   "source": [
    ">### <center><span style=\"font-size:30px;color:red\"><b>Total supply cost</b></span></center>"
   ]
  },
  {
   "cell_type": "markdown",
   "metadata": {},
   "source": [
    "# $$M = \\quad \\sum_{w=1}^{|W|}\\sum_{c=1}^{|C|} (X_{w,c} \\cdot S_{w,c})$$"
   ]
  },
  {
   "cell_type": "markdown",
   "metadata": {},
   "source": [
    ">### <center><span style=\"font-size:30px;color:red\"><b>Total unmet demand for customer $c$</b></span></center>"
   ]
  },
  {
   "cell_type": "markdown",
   "metadata": {},
   "source": [
    "# $$Y_{c} = \\quad D_{c} - \\sum_{w=1}^{|W|} (X_{w,c})  \\quad, \\forall c$$\n",
    "# $$Y_{c} \\geq 0, \\forall c$$"
   ]
  },
  {
   "cell_type": "markdown",
   "metadata": {},
   "source": [
    ">### <center><span style=\"font-size:30px;color:red\"><b>Total unmet demand cost</b></span></center>"
   ]
  },
  {
   "cell_type": "markdown",
   "metadata": {},
   "source": [
    "# $$N = \\quad \\sum_{c=1}^{|C|} (Y_{c} \\cdot P_{c}) \\quad, \\forall c$$"
   ]
  },
  {
   "cell_type": "markdown",
   "metadata": {},
   "source": [
    "## <a id=Objective><span style=\"color:green\">Objective: Minimize total costs for shipping and unmet demand</span></a>"
   ]
  },
  {
   "cell_type": "markdown",
   "metadata": {},
   "source": [
    "# $$\\min(N + M)$$"
   ]
  },
  {
   "cell_type": "markdown",
   "metadata": {},
   "source": [
    "# <a id=Method-definitions><center>Method Definitions</center></a>"
   ]
  },
  {
   "cell_type": "code",
   "execution_count": 3,
   "metadata": {},
   "outputs": [],
   "source": [
    "# generate constraints for the amount a given warehouse\n",
    "# can supply\n",
    "def Xwc_supply_constraints(model, X, onHands, W, C):\n",
    "    \n",
    "    for w in range(W):\n",
    "        expression = 0\n",
    "        for c in range(C):\n",
    "            expression += X[w, c]\n",
    "        model.addConstr(expression <= onHands[w])\n",
    "        # it has to supply something\n",
    "        model.addConstr(expression >= 1)\n",
    "    return\n",
    "\n",
    "# set expression for total supply costs\n",
    "def total_supply_cost(model, M, X, S, W, C):\n",
    "    expression = 0\n",
    "    for w in range(W):\n",
    "        for c in range(C):\n",
    "            expression += X[w, c] * S[w, c]\n",
    "    model.addConstr(M == expression)\n",
    "    model.addConstr(M >= 1)\n",
    "\n",
    "    \n",
    "\n",
    "# set expression for each customers unmet demand    \n",
    "def set_unmet_demand(model, D, X, Y, C, W):\n",
    "    # for each customer\n",
    "    for c in range(C):\n",
    "        expression = 0\n",
    "        # sum up the contribution to its demand from each warehouse\n",
    "        for w in range(W):\n",
    "            expression += X[w, c] \n",
    "        # the current customers unmet demand is its demand minus what it was supplied\n",
    "        # by the warehouses\n",
    "        model.addConstr(Y[c] == D[c] - expression )\n",
    "        \n",
    "        # the unmet demand can at least be zero\n",
    "        # this ensures that the sum of the supplied demand can not exceed the demand itself\n",
    "        model.addConstr(Y[c] >= 1)\n",
    "    return\n",
    "\n",
    "# set expression for total unmet demand costs\n",
    "def total_unmet_demand_cost(model, N, Y, D, P, C):\n",
    "    expression = 0\n",
    "    for c in range(C):\n",
    "        expression += Y[c] * P[c]\n",
    "    model.addConstr(N == expression)\n",
    "    model.addConstr(N >= 0)\n",
    "    return"
   ]
  },
  {
   "cell_type": "markdown",
   "metadata": {},
   "source": [
    "# <a id=implementation><center>Gurobi Implementation and Solution</center></a>"
   ]
  },
  {
   "cell_type": "code",
   "execution_count": 4,
   "metadata": {},
   "outputs": [
    {
     "name": "stdout",
     "output_type": "stream",
     "text": [
      "Restricted license - for non-production use only - expires 2023-10-25\n",
      "[[15 35 25]\n",
      " [10 50 40]]\n",
      "Parameters:\n",
      "W=2\n",
      "C=3\n",
      "Pc=[90, 80, 110]\n",
      "Hw=[40, 30]\n",
      "\n",
      "Gurobi Optimizer version 9.5.0 build v9.5.0rc5 (win64)\n",
      "Thread count: 6 physical cores, 12 logical processors, using up to 12 threads\n",
      "Optimize a model with 14 rows, 11 columns and 37 nonzeros\n",
      "Model fingerprint: 0xbf04315a\n",
      "Variable types: 2 continuous, 9 integer (0 binary)\n",
      "Coefficient statistics:\n",
      "  Matrix range     [1e+00, 1e+02]\n",
      "  Objective range  [1e+00, 1e+00]\n",
      "  Bounds range     [1e+00, 1e+00]\n",
      "  RHS range        [1e+00, 4e+01]\n",
      "Presolve removed 7 rows and 5 columns\n",
      "Presolve time: 0.00s\n",
      "Presolved: 7 rows, 6 columns, 18 nonzeros\n",
      "Variable types: 0 continuous, 6 integer (0 binary)\n",
      "Found heuristic solution: objective 3730.0000000\n",
      "\n",
      "Root relaxation: objective 3.090000e+03, 5 iterations, 0.00 seconds (0.00 work units)\n",
      "\n",
      "    Nodes    |    Current Node    |     Objective Bounds      |     Work\n",
      " Expl Unexpl |  Obj  Depth IntInf | Incumbent    BestBd   Gap | It/Node Time\n",
      "\n",
      "*    0     0               0    3090.0000000 3090.00000  0.00%     -    0s\n",
      "\n",
      "Explored 1 nodes (5 simplex iterations) in 0.01 seconds (0.00 work units)\n",
      "Thread count was 12 (of 12 available processors)\n",
      "\n",
      "Solution count 2: 3090 3730 \n",
      "\n",
      "Optimal solution found (tolerance 1.00e-04)\n",
      "Best objective 3.090000000000e+03, best bound 3.090000000000e+03, gap 0.0000%\n",
      "X[0,0] 0.00000\n",
      "X[0,1] 12.00000\n",
      "X[0,2] 28.00000\n",
      "\n",
      "X[1,0] 29.00000\n",
      "X[1,1] -0.00000\n",
      "X[1,2] 1.00000\n",
      "\n",
      "Y[0] 1.00000\n",
      "Y[1] 18.00000\n",
      "Y[2] 1.00000\n",
      "\n",
      "M 1450.00000\n",
      "N 1640.00000\n",
      "-------------------------------------\n",
      "\n",
      "\n",
      "\n",
      "-------------Does it make sense?----------------------\n",
      "Obj: 3090.00\n"
     ]
    }
   ],
   "source": [
    "try:\n",
    "    # instantiate model object \n",
    "    m = gp.Model(\"G_MOD\")\n",
    " \n",
    "    \n",
    "    \n",
    "    #########################################################################################\n",
    "    ################################## Parameters set up ####################################\n",
    "    #########################################################################################\n",
    "    W = 2                                                          # number of warehouses\n",
    "    C = customer_df.shape[0]                                       # number of customers\n",
    "    Pc = customer_df[\"Penalty\"].tolist()                           # unmet demand penalties\n",
    "    Hw = [40, 30]                                                  # on hand for each warehouse\n",
    "    \n",
    "    customer_labels = [\"Customer-1\", \"Customer-2\", \"Customer-3\"]\n",
    "    ShippingCosts = warehouse_df.loc[:,customer_labels ].values    # shipping costs \n",
    "    print(ShippingCosts)\n",
    "    \n",
    "    Dc = [30, 30, 30]                                              # customer demands\n",
    "    \n",
    "    print(\"Parameters:\\nW={}\\nC={}\\nPc={}\\nHw={}\\n\".format(W, C, Pc, Hw))\n",
    "    \n",
    "    #########################################################################################\n",
    "    ################################## Variables set up #####################################\n",
    "    #########################################################################################\n",
    "    Xwc = m.addVars(W, C, vtype=GRB.INTEGER, name=\"X\", lb=0,)\n",
    "    Yc = m.addVars(C, vtype=GRB.INTEGER, name=\"Y\", lb=0,)\n",
    "    M = m.addVar(1, vtype=GRB.CONTINUOUS, name=\"M\",)\n",
    "    N = m.addVar(1, vtype=GRB.CONTINUOUS, name=\"N\")\n",
    "    \n",
    "    \n",
    "    #########################################################################################\n",
    "    ################################## Objective set up #####################################\n",
    "    #########################################################################################    \n",
    "    m.setObjective(N+M, GRB.MINIMIZE)\n",
    "    \n",
    "    \n",
    "    #########################################################################################\n",
    "    ################################## Constraint set up ####################################\n",
    "    #########################################################################################\n",
    "    Xwc_supply_constraints(m, Xwc, Hw, W, C)\n",
    "    \n",
    "    \n",
    "    # set the total shipping cost\n",
    "    total_supply_cost(m, M, Xwc, ShippingCosts, W, C)\n",
    "    \n",
    "    # set the unmet demand expression\n",
    "    set_unmet_demand(m, Dc, Xwc, Yc, C, W)\n",
    "    \n",
    "    # set total unmet demand cost expression \n",
    "    total_unmet_demand_cost(m, N, Yc, Dc, Pc, C)\n",
    "    \n",
    "    #########################################################################################\n",
    "    ################################## SOLVE:OPTIMIZE #######################################\n",
    "    #########################################################################################    \n",
    "    \n",
    "    \n",
    "    m.optimize()\n",
    "    \n",
    "    #########################################################################################\n",
    "    ################################## Display Results ######################################\n",
    "    #########################################################################################    \n",
    "    displayDecisionVars(m, end_sentinel=\"2\")\n",
    "    \n",
    "    print(\"\\n-------------Does it make sense?----------------------\")  \n",
    "    print('Obj: {:.2f}'.format(m.ObjVal))\n",
    "    \n",
    "    \n",
    "# catch some math errors\n",
    "except gp.GurobiError as e:\n",
    "    print('Error code ' + str(e.errno) + ': ' + str(e))\n",
    "\n",
    "except AttributeError:\n",
    "    print('Encountered an attribute error')"
   ]
  },
  {
   "cell_type": "markdown",
   "metadata": {},
   "source": [
    "# <a id=solution><span style=\"color:crimson\"><center>Solution Discussion</center></a>"
   ]
  },
  {
   "cell_type": "markdown",
   "metadata": {},
   "source": [
    "> ### The solution....\n",
    "> The problem requires that a decision be made about how much each warehouse will supply to which customer. Looking at the unmet demand penalties the general idea should be to supply the customers with the higher penalties more than those with lower penalties to minimize unmet demand cost. From the supply costs from each warehouse to each customer the warehouse 1 has lower supply costs overall compared to warehouse 2 for any given customer.  Since warehouse 1 has more supply, I would expect that it supplies most of the demand with warehouse 2 picking up the slack. For both warehouses the magnitude of demand in ascending order is customers 1, 2, and 3. Since customer 1 has a lower cost for warehouse 2 I would try to send most of the supply for that customer from warehouse 2. This would mean that warehouse 1 would need to cover most of the demands for customers 2, and 3. Customers 1 and 3 have higher unmet demand penalties than customer 2 so I would allow for more unmet demand to this customer. I would supply what I had left over in warehouse 1 to customer 2 to met what demand I could.  I would supply as close to what customer 3 demanded as possible since it has the highest unmet demand cost. This ad hoc solution is like what is seen in the solution produced by Gurobi. \n",
    "\n",
    "> ### The optimal solution generated by the implemented model suggests to:\n",
    "> * <b>Have Warehouse 1:</b>\n",
    ">    * supplies most of <b>customers 3’s</b> demand <b>(28/30 units)</b> \n",
    ">    * as well as a portion of the demand for <b>customer 2 (12/30 units)</b> \n",
    "> * <b>Have Warehouse 2:</b>\n",
    ">    * covers almost all the demand for <b>customer 1 (29/30 units)</b> \n",
    ">    * as well as <b>(1/30) units for customer 3</b>. \n",
    "    \n",
    "> The leads to customer 1 supplied with 28 units, customer 2 with 12 units, and customer 3 with 29 units.</b> This configuration of the model leads to a <b>total supply cost of $\\$1450$, and a total unmet demand cost of $\\$1640$ for a total overall cost of $\\$3090.00$</b>."
   ]
  },
  {
   "cell_type": "code",
   "execution_count": 5,
   "metadata": {},
   "outputs": [
    {
     "name": "stdout",
     "output_type": "stream",
     "text": [
      "filename: _HW4_Problem1.ipynb\n"
     ]
    }
   ],
   "source": [
    "# save the notebook as a pdf\n",
    "to_PDF(notebook_title)"
   ]
  }
 ],
 "metadata": {
  "kernelspec": {
   "display_name": "Python 3 (ipykernel)",
   "language": "python",
   "name": "python3"
  },
  "language_info": {
   "codemirror_mode": {
    "name": "ipython",
    "version": 3
   },
   "file_extension": ".py",
   "mimetype": "text/x-python",
   "name": "python",
   "nbconvert_exporter": "python",
   "pygments_lexer": "ipython3",
   "version": "3.9.6"
  }
 },
 "nbformat": 4,
 "nbformat_minor": 1
}
