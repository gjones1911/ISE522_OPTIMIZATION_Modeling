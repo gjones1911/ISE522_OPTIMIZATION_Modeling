{
 "cells": [
  {
   "cell_type": "markdown",
   "id": "f84fcf8a",
   "metadata": {},
   "source": [
    "# <span style=\"color:cornflowerblue\"> WO Model</span>\n",
    "\n",
    "## Sets/Indices\n",
    "### $\\textbf{$L$}  \\quad \\quad \\text{Set of locations where maintenance tasks must be completed, \\{1,2\\} } l \\text{ } \\in \\textbf{$L$}$ \n",
    "### $\\textbf{$P$}  \\quad \\quad \\text{Set maintenance tasks possible priorities, \\{5,4, 3, 2, 1\\} where higher value = higher priority, } p \\text{ } \\in \\textbf{$P$}$ \n",
    "### $\\textbf{$M_{l,p}$}  \\quad \\text{maintenance tasks for location l with priority p, } m_{l,p} \\text{ } \\in \\textbf{$M_{l,p}$}$\n",
    "\n",
    "### $\\textbf{$T$}  \\quad \\quad \\text{Set of employee roles,  } t \\text{ } \\in \\textbf{$T$}$\n",
    "\n",
    "### $\\textbf{$S$}  \\quad \\quad \\text{Set of steps for maintenance task process, } s \\in \\textbf{$S$}$\n",
    "\n",
    "### $\\textbf{$R_{t, l}$}  \\quad \\text{employee resource of role $t$ for location $l$}$\n",
    "\n",
    "\n",
    "\n",
    "## Parameters\n",
    "### $\\textbf{$B$}  \\quad \\text{initial date of forcasted maintenance tasks process}$\n",
    "### $\\textbf{$E$}  \\quad \\text{final date of forcasted maintenance tasks process}$\n",
    "\n",
    "\n",
    "## Variables\n",
    "### $\\textbf{$N_{t, l}$}  \\quad \\text{number of employee resource type $t$ at location $l$}$\n",
    "### $\\textbf{$C$}   \\quad \\text{number of completed m's between $B$ and $E$}$\n",
    "### $\\Delta_{m,s} \\quad \\text{total time in step s for maintenance task m}$\n",
    "### $\\textbf{$D_{m}$} \\quad \\text{total time or duration in system for maintenance task m}$\n",
    "\n",
    "## Objective\n",
    "## $$\\min(\\frac{\\sum_{m=1}^{C}(D_{m})}{C})$$\n",
    "\n",
    "\n",
    "## Equations and Constraints:\n",
    "### <center><span style=\"color:red\"> Total time in step for a maintenance task</span></center>\n",
    "### $\\textbf{$D_{m}$} = \\sum_{s=1}^{|S|}(\\Delta_{m,s}), \\text{} \\forall m$\n",
    "\n",
    "### <center><span style=\"color:red\"> Total time system for a maintenance task</span></center>\n",
    "### $\\sum_{m=1}^{C}(D_{m}) > \\textbf{$D_{m}$} > 0, \\text{} \\forall m$\n",
    "\n",
    "\n",
    "### <center><span style=\"color:red\"> maintenance tasks total time must be a non zer0 value</span></center>\n",
    "### $\\Delta_{m,s} > 0, \\text{ $\\forall$ } m,s$"
   ]
  },
  {
   "cell_type": "markdown",
   "id": "3428c8d2",
   "metadata": {},
   "source": [
    "## Resource attainment decisons\n",
    "\n",
    "> For each of the various resource roles $T$ the management can decide to attain a set number $N$ for each location $l$ from the set of potential locations $L$. This decision is critial to minimizing the time it takes to process maintenance tasks as well as attaining an optimal employeed resource utilization. To find the optimial set of employee role numbers a set of work orders are simulated from the earliest arrival data $B$ to the latest completion data $E$.  "
   ]
  }
 ],
 "metadata": {
  "kernelspec": {
   "display_name": "Python 3 (ipykernel)",
   "language": "python",
   "name": "python3"
  },
  "language_info": {
   "codemirror_mode": {
    "name": "ipython",
    "version": 3
   },
   "file_extension": ".py",
   "mimetype": "text/x-python",
   "name": "python",
   "nbconvert_exporter": "python",
   "pygments_lexer": "ipython3",
   "version": "3.9.6"
  }
 },
 "nbformat": 4,
 "nbformat_minor": 5
}
