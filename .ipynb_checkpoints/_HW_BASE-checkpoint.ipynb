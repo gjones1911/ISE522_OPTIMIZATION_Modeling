{
 "cells": [
  {
   "cell_type": "markdown",
   "metadata": {
    "collapsed": true
   },
   "source": [
    "# <span style=\"color:cornflowerblue\"> Gerald Jones</span>\n",
    "# <span style=\"color:cornflowerblue\"> Home Work : </span>\n",
    "# <span style=\"color:cornflowerblue\"> ISE522 Spg 22</span>\n",
    "\n",
    "## Problem Description:\n",
    "\n"
   ]
  },
  {
   "cell_type": "markdown",
   "metadata": {},
   "source": [
    "# <span style=\"color:orange\"><center><b>Module imports and data loading</b></center></span>"
   ]
  },
  {
   "cell_type": "code",
   "execution_count": null,
   "metadata": {},
   "outputs": [],
   "source": [
    "from _GUROBI_TOOLS_.GUROBI_MODEL_BUILDING_TOOLS import *\n",
    "from _NOTE_BOOK_UTILS import *\n",
    "\n",
    "try:\n",
    "    data_file = \"\"\n",
    "    data_df = pd.read_excel(data_file)\n",
    "except Exception as ex:\n",
    "    print(\"error loading file\")\n",
    "    print(\"Exception: {}\".format(ex))"
   ]
  },
  {
   "cell_type": "markdown",
   "metadata": {},
   "source": [
    "# <span style=\"color:Green\"><center><b>Data Display</b></center></span>"
   ]
  },
  {
   "cell_type": "markdown",
   "metadata": {},
   "source": [
    "# <center> <span style=\"color:blue\"> Model Formulation</span> </center>\n",
    "\n",
    "## Parameters and Sets:\n",
    "\n",
    "## Variables:\n",
    "\n",
    "## Equations and Constraints:\n",
    "\n",
    "## Objective:"
   ]
  },
  {
   "cell_type": "markdown",
   "metadata": {},
   "source": [
    "# <center>Method Definitions</center>"
   ]
  },
  {
   "cell_type": "markdown",
   "metadata": {},
   "source": [
    "# <center>Gurobi Implementation and Solution</center>"
   ]
  },
  {
   "cell_type": "code",
   "execution_count": null,
   "metadata": {},
   "outputs": [],
   "source": [
    "try:\n",
    "    # instantiate model object \n",
    "    m = gp.Model(\"G_MOD\")\n",
    "    direction = \n",
    "    \n",
    "    \n",
    "    #########################################################################################\n",
    "    ################################## Parameters set up ####################################\n",
    "    #########################################################################################\n",
    "\n",
    "    #########################################################################################\n",
    "    ################################## Variables set up #####################################\n",
    "    #########################################################################################\n",
    "\n",
    "    \n",
    "    #########################################################################################\n",
    "    ################################## Objective set up #####################################\n",
    "    #########################################################################################    \n",
    "    \n",
    "    #########################################################################################\n",
    "    ################################## Constraint set up ####################################\n",
    "    #########################################################################################\n",
    "    \n",
    "    \n",
    "    #########################################################################################\n",
    "    ################################## SOLVE:OPTIMIZE #######################################\n",
    "    #########################################################################################    \n",
    "    \n",
    "    \n",
    "    m.optimize()\n",
    "    \n",
    "    #########################################################################################\n",
    "    ################################## Display Results ######################################\n",
    "    #########################################################################################    \n",
    "    displayDecisionVars(m, end_sentinel=\"6\")\n",
    "    \n",
    "    print(\"\\n-------------Does it make sense?----------------------\")  \n",
    "    print('Obj: {:.2f}'.format(m.ObjVal))\n",
    "    \n",
    "    \n",
    "# catch some math errors\n",
    "except gp.GurobiError as e:\n",
    "    print('Error code ' + str(e.errno) + ': ' + str(e))\n",
    "\n",
    "except AttributeError:\n",
    "    print('Encountered an attribute error')"
   ]
  },
  {
   "cell_type": "markdown",
   "metadata": {},
   "source": []
  },
  {
   "cell_type": "markdown",
   "metadata": {},
   "source": []
  }
 ],
 "metadata": {
  "kernelspec": {
   "display_name": "Python 3 (ipykernel)",
   "language": "python",
   "name": "python3"
  },
  "language_info": {
   "codemirror_mode": {
    "name": "ipython",
    "version": 3
   },
   "file_extension": ".py",
   "mimetype": "text/x-python",
   "name": "python",
   "nbconvert_exporter": "python",
   "pygments_lexer": "ipython3",
   "version": "3.9.6"
  }
 },
 "nbformat": 4,
 "nbformat_minor": 1
}
