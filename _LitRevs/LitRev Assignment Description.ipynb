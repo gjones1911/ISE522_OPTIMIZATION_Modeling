{
 "cells": [
  {
   "cell_type": "markdown",
   "id": "151c92d1",
   "metadata": {},
   "source": [
    "For this assignment I would like to do a literature review to understand methods for solving problems that are related to the problem you solved in individual assignment 4. Please answer the following questions:\n",
    "\n",
    "\n",
    "\n",
    "\n",
    "\n",
    "\n",
    "\n",
    "\n",
    "\n",
    "\n",
    "\n",
    "\n",
    "To answer questions 2-7, you will probably need to do a literature review . I expect you to cite at least one paper for each of questions 2-7.\n",
    "\n",
    "## Notebook Links:\n",
    "[Problem 1](#problem1) | [Problem 2](#problem2) | [Problem 3](#problem3) | [Problem 4](#problem4) | [Problem 5](#problem5) [Problem 6](#problem6) | [Problem 7](#problem7) | [General Notes](#gen-notes)"
   ]
  },
  {
   "cell_type": "markdown",
   "id": "52ca517e",
   "metadata": {},
   "source": [
    "<a id=gen-notes></a>\n",
    "# General Notes/Term Definitions:\n",
    "\n",
    "> What is the <b>S</b>ingle-<b>i</b>tem dynamic <b>l</b>ot-sizing <b>p</b>roblem?\n",
    "> * a.k.a. SILP\n",
    "> * **lot size:** \n",
    "    * basically refers to the total quantity of a product ordered for manufacturing.\n",
    "> * **[vendor](https://www.investopedia.com/terms/v/vendor.asp):**\n",
    "    * a party in the supply chain that makes goods and services available to companies or consumers.\n",
    "    * also known as a <span style='color:red'>supplier</span>, is a person or a business entity that sells something.\n",
    "    * supplier\n",
    "    * manufacturer\n",
    "    * distributer\n",
    "> * **[retailer](https://www.thebalancesmb.com/what-is-a-retailer-2890386)**\n",
    "    * typically buy goods from a manufacturer/wholesaler/distributor/(**vendor**) and then resell them to the public. \n",
    "    * sells those goods to the end-user at a markup—the difference between their purchase price and the resale price.\n",
    "    * warehouse\n",
    "    \n",
    "> * Stock, product, inventory"
   ]
  },
  {
   "cell_type": "markdown",
   "id": "96c19910",
   "metadata": {},
   "source": [
    "## <a id=problem1><center>Problem 1</center></a>\n",
    "[Problem 1](#problem1) | [Problem 2](#problem2) | [Problem 3](#problem3) | [Problem 4](#problem4) | [Problem 5](#problem5) [Problem 6](#problem6) | [Problem 7](#problem7) | [General Notes](#gen-notes)\n",
    "\n",
    "1. Read through the following survey: [Single-item dynamic lot-sizing problems: An updated survey](https://www.sciencedirect.com/science/article/pii/S0377221717304368). Classify our problem (the one solved in individual assignment 4) according to the Classification provided in Table 1 of the paper (also see Section 4).\n",
    "\n",
    "* Our problem has deterministic information since we know the amount of demand each week, the amount we can supply each week, the minimum inventory for each week, the prices for holding and shipping. There is no randomness in our information. For each time frame, storage and shipping amounts we know the cost of shipping, how much demand there is, and how much it will cost to hold the inventory. \n",
    "* Our problem is also finite horizon since we know exactly how many weeks we are looking at. The time scale is descrete since we work in single week time units. The problem is a single item, single level, one that has inventory related costs for holding, and shipping of the inventory. There is a single production resource with minimum order quantity constraints, and price discounts.  There is no limit set on the possible production amounts or hold capacities but there are constraints on the minimum amount held at the warehouse each period as well as a minimum order quanity.  \n",
    "\n",
    "* The service policy requires that demands be met in total each time period, and does not allow for lost sales, backlogging, backordering, or subcontracting. \n",
    "\n",
    "* Time consuming activites are not considered. This means that  there is no consideration for start up time, processing time is zero as well as the lead and transportion time being assumed to be essentially instant(if it is ordered in the week it arrives the same week and can be sold in the same week. \n",
    "\n",
    "* The Objectives for this problem are to minimize shipping and holding costs for the horizon studied. "
   ]
  },
  {
   "cell_type": "markdown",
   "id": "6b812c46",
   "metadata": {},
   "source": [
    "# Notes: Single-item dynamic lot-sizing problems: An updated survey\n",
    "\n",
    "## Abstract:\n",
    "> Following our previous paper (Brahimi, Dauzère-Pérès, Najid, & Nordli, 2006), we present an updated\n",
    "and <b>extended survey of Single-Item Lot-Sizing Problems</b> with focus on publications from 2004 to 2016.\n",
    "<b>Exact and heuristic solution procedures are surveyed</b>. A concise and comprehensive summary of different\n",
    "extensions of the problem is given. The <b>classification of the extensions is based on different characteristics\n",
    "such as resource limitations, assumptions on demand and cost structure</b>. The large number of surveyed\n",
    "papers shows the increased interest of researchers in lot-sizing problems in general and in single-item\n",
    "problems in particular. The survey and the proposed classification should help researchers to identify new\n",
    "research topics, to propose relevant problems and/or novel solution approaches.\n",
    "\n",
    "+ Their work focuses on Descrete time models, single item dynamic lot-sizing problems and its extentions \n",
    "+ revision to previous work due to recent at the time extensions such as:\n",
    "    - remanufacturing\n",
    "    - stochastic versions, \n",
    "    - bounded invetories, \n",
    "    - carbon emmision constriants\n",
    "    - min order quantities\n",
    "    - batch sizes \n",
    "    - etc...\n",
    "+ since 1958 over 50% of all published works where in the last 10/20 years\n",
    "\n",
    "## Description according to Brahimi et. al. \n",
    "> The SILSP can be defined as a planning problem in which there is time-varying demand for a single product over a \n",
    "planning horizon of $\\textit{T}$ periods. The objective is to determine periods where production will take place and the quantities that have to be produced in these periods. The total production should satisfy the demands while minimizing the total costs. The basic costs are the unit production cost pt (where t = 1, .., T is the period); the setup cost $\\textit{s}_{t}$,which is a fixed cost incurred if a production process is started in a\n",
    "period t, and the unit inventory holding cost $\\textit{h}_{t}$. Extensions might\n",
    "include, for example, a capacity limitation $\\textit{C}_{t}$ or inventory bound $p_{max}$.\n",
    "\n",
    "## Classification according to Brahimi et. al. \n",
    "* Lot sizing problems can be done based on things such as:\n",
    "    + nature of data\n",
    "        - deterministic\n",
    "        - stochastic\n",
    "    + nature of time scale:\n",
    "        - descrete\n",
    "        - continous\n",
    "    + number of producers/machines\n",
    "    + number of production stages (levels)\n",
    "    + lenghth of production periods\n",
    "    + etc. \n",
    "    \n"
   ]
  },
  {
   "cell_type": "markdown",
   "id": "955abc20",
   "metadata": {},
   "source": [
    "## <a id=problem2><center>Problem 2</center></a>\n",
    "[Problem 1](#problem1) | [Problem 2](#problem2) | [Problem 3](#problem3) | [Problem 4](#problem4) | [Problem 5](#problem5) [Problem 6](#problem6) | [Problem 7](#problem7) | [General Notes](#gen-notes)\n",
    "\n",
    "2. Describe at least one well-known and popular method for the classic single-item dynamic lot sizing problem (SILSP)."
   ]
  },
  {
   "cell_type": "markdown",
   "id": "059b9a22",
   "metadata": {},
   "source": [
    "## Possibles:"
   ]
  },
  {
   "cell_type": "markdown",
   "id": "01d1f69b",
   "metadata": {},
   "source": [
    "## <a id=problem3><center>Problem 3</center></a>\n",
    "[Problem 1](#problem1) | [Problem 2](#problem2) | [Problem 3](#problem3) | [Problem 4](#problem4) | [Problem 5](#problem5) [Problem 6](#problem6) | [Problem 7](#problem7) | [General Notes](#gen-notes)\n",
    "\n",
    "3. Describe at least one state-of-the-art method for solving the SILSIP with a minimum inventory amount."
   ]
  },
  {
   "cell_type": "markdown",
   "id": "51c83c52",
   "metadata": {},
   "source": [
    "## Possibles:"
   ]
  },
  {
   "cell_type": "markdown",
   "id": "99c00d55",
   "metadata": {},
   "source": [
    "## <a id=problem4><center>Problem 4</center></a>\n",
    "\n",
    "[Problem 1](#problem1) | [Problem 2](#problem2) | [Problem 3](#problem3) | [Problem 4](#problem4) | [Problem 5](#problem5) | [Problem 6](#problem6) | [Problem 7](#problem7) | [General Notes](#gen-notes)\n",
    "\n",
    "4. Describe at least one state-of-the-art method for solving the SILSIP with **<span style='color:red'>minimum order quantities.</span>**"
   ]
  },
  {
   "cell_type": "markdown",
   "id": "6d06fd6e",
   "metadata": {},
   "source": [
    "## Possibles:\n",
    "\n",
    "* [Coordinating Lot Sizing Decisions Under Bilateral Information Asymmetry (2019)](https://onlinelibrary.wiley.com/doi/abs/10.1111/poms.13106?casa_token=pjX81IFVMVYAAAAA:oD0BJfVdIsmheLj-yxTXxJfBKO-9WDSFrGYxgb07vkBeTyFGICno1Nfu0buwGoMg5kRxM3fYLb1jr4g)\n",
    "> ### Abstract:\n",
    "> We consider inventory management decisions when manufacturing and warehousing are controlled by independent entities. The latter possess private information that affects their choices and are allowed to communicate via a mediator who attempts to streamline their decisions without restricting their freedom. The mediator designs a mechanism based on quantity discounts to minimize the overall system costs, attempting to reach a win–win situation for both entities. Using the Revelation Principle, we show that it is in the entities’ self-interest to reveal their information and we prove that coordination is attainable even under bilateral information asymmetry. The acceptable cost allocation is not unique, providing adequate flexibility to the mediator during mechanism design; the flexibility may reflect the relative power of the entities and is quantified in our work by a series of computational experiments. Our approach is motivated by inventory management practices in a manufacturing group and, thus, it is directly applicable to real-life cases.\n",
    "\n",
    "* [Lot sizing with minimum order quantity (2014)](https://www.sciencedirect.com/science/article/pii/S0166218X1400417X)\n",
    "> ### Abstract:\n",
    "> We consider the single item lot sizing problem with minimum order quantity where each period has an additional constraint on minimum production quantity. We study special cases of the general problem from the algorithmic and mathematical programming perspective. We exhibit a polynomial case when capacity is constant and minimum order quantities are non-increasing in time. Linear programming extended formulations are provided for various cases with constant minimum order quantity.\n",
    "\n",
    "\n",
    "\n",
    "\n",
    "* [The linear dynamic lot size problem with minimum order quantity (2011)](https://www-sciencedirect-com.utk.idm.oclc.org/science/article/pii/S0925527311002234)\n",
    "> ### Abstract:\n",
    "> This paper continues the analysis of a special uncapacitated single item lot sizing problem where a **minimum order quantity restriction**, instead of the setup cost, guarantees a certain level of production lots. A detailed analysis of the model and an investigation of the particularities of the cumulative demand structure allow us to develop a solution algorithm based on the concept of atomic sub-problems. We present an optimal solution to an atomic sub-problem in an explicit form and prove that it serves as a construction block for the optimal solution of the original problem. Computational tests and a comparison with a published algorithm confirm the efficiency of the solution algorithm developed here.\n",
    "\n",
    "* [new]()\n",
    "> ### Abstract:\n"
   ]
  },
  {
   "cell_type": "markdown",
   "id": "65c5cdd0",
   "metadata": {},
   "source": [
    "## <a id=problem5><center>Problem 5</center></a>\n",
    "\n",
    "[Problem 1](#problem1) | [Problem 2](#problem2) | [Problem 3](#problem3) | [Problem 4](#problem4) | [Problem 5](#problem5) | [Problem 6](#problem6) | [Problem 7](#problem7) | [General Notes](#gen-notes)\n",
    "\n",
    "5. Describe at least one state-of-the-art method for solving the SILSIP with **<span style='color:red'>quantity discounts. (Note: our problem has an \"all units\" quantity discount.)</span>**"
   ]
  },
  {
   "cell_type": "markdown",
   "id": "58f2f3a3",
   "metadata": {},
   "source": [
    "## Possibles:\n",
    "\n",
    "* [<span style=\"font-size:16px;\">Improved algorithms for dynamic lot sizing problems with incremental discount. (2019)</span>](https://web-s-ebscohost-com.utk.idm.oclc.org/ehost/detail/detail?vid=0&sid=3b4b000e-7b8b-4db6-a69e-161250102a18%40redis&bdata=JnNpdGU9ZWhvc3QtbGl2ZSZzY29wZT1zaXRl#AN=133804042&db=a9h)\n",
    "> ### Abstract:\n",
    "We develop improved algorithms for the dynamic lot sizing problems with incremental discount, where the procurement cost is a concave piecewise linear function with m sections and the holding cost is linear. We decompose the problem carefully and present a new dynamic programming formulation. By using geometric techniques, we show that when m is fixed, the problem can be solved in O(T log T) time, and further O(T) time if the procurement cost is stationary.\n",
    "\n",
    "\n",
    "* [<span style=\"font-size:16px;\">Lot sizing with piecewise concave production costs (2014)</span>](https://go-gale-com.utk.idm.oclc.org/ps/i.do?p=AONE&u=tel_a_utl&id=GALE|A386743638&v=2.1&it=r)\n",
    "> ### Abstract:\n",
    "We study the lot-sizing problem with piecewise concave production costs and concave holding costs. This problem is a generalization of the lot-sizing problem with quantity discounts, minimum order quantities, capacities, overloading, subcontracting or a combination of these. We develop a dynamic programming algorithm to solve this problem and answer an open question in the literature: we show that the problem is polynomially solvable when the breakpoints of the production cost function are time invariant and the number of breakpoints is fixed. For the special cases with capacities and subcontracting, the time complexity of our algorithm is as good as the complexity of algorithms available in the literature. We report the results of a computational experiment where the dynamic programming is able to solve instances that are hard for a mixed-integer programming solver. We enhance the mixed-integer programming formulation with valid inequalities based on mixing sets and use a cut-and-branch algorithm to compute better bounds. We propose a state space reduction-based heuristic algorithm for large instances and show that the solutions are of good quality by comparing them with the bounds obtained from the cut-and-branch.\n",
    "\n",
    "* [<span style=\"font-size:16px;\">Dynamic lot sizing with all-units discount and resales (2012)</span>](https://onlinelibrary-wiley-com.utk.idm.oclc.org/doi/full/10.1002/nav.21484)\n",
    "> ### Abstract:\n",
    "We consider a single-product dynamic lot-sizing model with an all-units quantity discount pricing scheme available to the buyer, where the discount price breakpoints are stationary. To capture the real-life behavior of a typical buyer who often takes advantage of quantity discounts through purchasing in excess of the anticipated demand, our model allows the buyer to resell or dispose of any leftover inventory that he/she does not need. We show that the general problem with an arbitrary number of discount price breakpoints is NP-hard. We then develop a polynomial algorithm for the problem with an O(T$^{m+3}$) running time when the number of price breakpoints, m, is fixed, where T is the number of time periods in the planning horizon. We further develop an O(T$^2$) algorithm for the special case with a single price breakpoint. © 2012 Wiley Periodicals, Inc. Naval Research Logistics, 2012\n",
    "\n",
    "\n",
    "* [An integrated model for lot sizing with supplier selection and quantity discounts(2012)](https://www.sciencedirect.com/science/article/pii/S0307904X12005872)\n",
    "> ### Abstract:\n",
    "Good inventory management is essential for a firm to be cost competitive and to acquire decent profit in the market, and how to achieve an outstanding inventory management has been a popular topic in both the academic field and in real practice for decades. As the production environment getting increasingly complex, various kinds of mathematical models have been developed, such as linear programming, nonlinear programming, mixed integer programming, geometric programming, gradient-based nonlinear programming and dynamic programming, to name a few. However, when the problem becomes NP-hard, heuristics tools may be necessary to solve the problem. In this paper, a mixed integer programming (MIP) model is constructed first to solve the lot-sizing problem with multiple suppliers, multiple periods and quantity discounts. An efficient Genetic Algorithm (GA) is proposed next to tackle the problem when it becomes too complicated. The objectives are to minimize total costs, where the costs include ordering cost, holding cost, purchase cost and transportation cost, under the requirement that no inventory shortage is allowed in the system, and to determine an appropriate inventory level for each planning period. The results demonstrate that the proposed GA model is an effective and accurate tool for determining the replenishment for a manufacturer for multi-periods.\n",
    "\n",
    "\n",
    "\n",
    "* [<span style=\"font-size:16px;\">title</span>]()\n",
    "> ### Abstract:"
   ]
  },
  {
   "cell_type": "markdown",
   "id": "a38164dd",
   "metadata": {},
   "source": [
    "## <a id=problem6><center>Problem 6</center></a>\n",
    "\n",
    "[Problem 1](#problem1) | [Problem 2](#problem2) | [Problem 3](#problem3) | [Problem 4](#problem4) | [Problem 5](#problem5) [Problem 6](#problem6) | [Problem 7](#problem7) | [General Notes](#gen-notes)\n",
    "\n",
    "6. Has anyone studied the SILSP in which inventory is **<span style='color:red'>stored at two locations (i.e., the supplier and warehouse)?</span>** Are there any papers that study a similar problem?"
   ]
  },
  {
   "cell_type": "markdown",
   "id": "d9529766",
   "metadata": {},
   "source": [
    "## Possibles:\n",
    "\n",
    "* [<span style=\"font-size:16px;\">Single-Item Lot-Sizing and Scheduling Problem with Deteriorating Inventory and Multiple Warehouses (2013)</span>](http://scientiairanica.sharif.edu/article_3454_4769bf4fe87c4a7aff2c48452ff6d105.pdf?msclkid=d83172c9a86a11ecbd6c1c40fa4c15a6)\n",
    "> ### Abstract:\n",
    "> This paper, introduces a Single-Item Lot-sizing and Scheduling Problem with Multiple Warehouses (SILSP-MW). In this problem, the inventory deteriorates over time, depending on the warehouse conditions, so multiple warehouses with different technologies are considered in this study. Each warehouse has a specified deterioration rate and holding cost. The purpose of the SILSP-MW is to determine production periods and quantities and to select the appropriate warehouse to hold the inventory in each period, such that specified demand in each period is being satisfied while the total cost is minimized. We shall present a Mixed-Integer Linear Programming (MILP) formulation to model the problem. Moreover, a Simulated Annealing (SA) algorithm will be presented to solve this problem. We will evaluate the performance of the algorithm by computational experiments with small- and medium-sized examples. In addition, a full factorial design is developed to investigate the effect of the model parameters on the proposed SA algorithm.\n",
    "\n",
    "* [<span style=\"font-size:16px;\">Vendor-buyer lot sizing problem with stochastic demand: An exact procedure under service level approach (2011)</span>](https://www.researchgate.net/publication/227440056_Vendor-buyer_lot_sizing_problem_with_stochastic_demand_An_exact_procedure_under_service_level_approach)\n",
    "> ### Abstract:\n",
    "> In this study, we consider the joint economic lot sizing problem (JELP) under stochastic demand. Almost all of the literature on JELP assumes that the demand is deterministic and constant with very limited exceptions. We indicate the shortcomings of the work in the literature in this regard, and suggest a service-level based model for JELP under stochastic demand with an exact solution procedure. We also include numerical examples to illustrate the procedure and the value of the stochastic solution. [Submitted 02 September 2009; Revised 20 December 2009, 25 February 2009; Accepted 26 February 2010] \n",
    "<br><p>So, this paper tries to deal with the retailer’s lot-sizing problem under two warehouses and two levels of delay permitted using algebraic method. In addition, we develop easy-to-use procedures to find the optimal lot-sizing policy for the retailer under minimizing annual total relevant cost.</p> \n",
    "<ul><ul><li>This one is delaying payment for products shipped</li></ul></ul>\n",
    "<br><br>\n",
    "* [<span style=\"font-size:17px;\">Retailer’s lot-sizing policy under two warehouses and two levels of delay permitted using algebraic method (2006)</span>](https://www.researchgate.net/publication/47393999_Retailer's_lot-sizing_policy_under_two_warehouses_and_two_levels_of_delay_permitted_using_algebraic_method?msclkid=28649f4fa56211ec836da30c33c895e9)\n",
    "> ### Abstract: \n",
    "> The main purpose of this paper is to modify Huang’s model [13] by **considering two warehouses**. In addition, we try to use algebraic method to determine the optimal lot-sizing policy for the retailer under two warehouses and two levels of delay permitted. This paper provides this algebraic approach that could be used easily to introduce the basic inventory theories to younger students who lack the knowledge of calculus. Furthermore, we develop three easy-to-use theorems to efficiently determine the optimal cycle time and optimal lot sizing for the retailer. As a result, we deduce some previously published results of other researchers as special cases. Finally, a numerical example is given to illustrate these theorems obtained in this paper. In addition, we obtain a lot of managerial insights from this numerical example.\n",
    "\n",
    "\n",
    "\n",
    "* [<span style=\"font-size:16px;\">title</span>]()\n",
    "> ### Abstract:"
   ]
  },
  {
   "cell_type": "markdown",
   "id": "387f3ce0",
   "metadata": {},
   "source": [
    "## <a id=problem7><center>Problem 7</center></a>\n",
    "\n",
    "[Problem 1](#problem1) | [Problem 2](#problem2) | [Problem 3](#problem3) | [Problem 4](#problem4) | [Problem 5](#problem5) [Problem 6](#problem6) | [Problem 7](#problem7) | [General Notes](#gen-notes)\n",
    "\n",
    "7. Has anyone studied the same problem that we studied in individual assignment 4 (i.e., **<span style='color:red'>including inventory held at the supplier</span>**)? Have they studied problems that are similar?"
   ]
  },
  {
   "cell_type": "markdown",
   "id": "9bec3beb",
   "metadata": {},
   "source": [
    "#### Possibles:\n",
    "* [<span style=\"font-size:16px;\">Multi-item dynamic lot-sizing with delayed transportation policy</span>](https://www-sciencedirect-com.utk.idm.oclc.org/science/article/pii/S0925527311000442)\n",
    "    - > ##### Abstract\n",
    "    We **optimize ordering and inbound shipment decisions** for a manufacturer that sources **multiple items from a single supplier**. The objective is to satisfy the requirements in the production plan with minimum transportation and inventory holding costs over a multi-period planning horizon. Transportation costs are charged to the manufacturer on a per truck shipment basis. We **investigate the option of delaying a less-than-full truckload shipment to the next period**, by **utilizing the safety stocks as needed**. We **analyze the impact of delaying shipments on both cost and service levels in stochastic environments through experiments with data from a bus manufacturer**. The results indicate that the proposed policy reduces both holding and transportation costs without creating much stock-out risk.\n",
    "  \n",
    "    - > Depending on the amounts to be shipped and the truck capacity, less-than-full truckloads may arise frequently, while the full truck cost must be paid. To increase the truckload percentages, we consider delaying transportation of a portion of the order to the next period. That is, instead of shipping the required number of trucks whenever an order is given in a period, we allow delaying the shipment of items that would cause a small truckload to the next period, and keep them at the supplier. To ensure that the production plan is not disrupted by the delaying, the delayed amounts are limited by the safety stock levels so that the safety stock compensates for the delayed items. The proposed policy is viable when shipments take a short time. The manufacturer and its supplier are in close proximity to each other in the bus manufacturer case mentioned above. For this reason, we assume that the transportation lead time is zero in our models. When the manufacturer places an order, the supplier can send the required items within the same day because of the short distance and its make-to-stock strategy.\n",
    "    \n",
    "* [<span style=\"font-size:16px;\">Multiple-vendor, multiple-retailer based vendor-managed inventory</span>](https://go-gale-com.utk.idm.oclc.org/ps/i.do?p=AONE&u=tel_a_utl&id=GALE|A444240506&v=2.1&it=r)\n",
    "    - > ##### Abstract\n",
    "    Vendor-managed inventory is a coordinated system where a vendor decides about the retailer's replenishment quantity and time. This work studies a two-echelon distribution work composed of multiple vendors and retailers in traditional and vendor-managed inventory systems where unsatisfied demands are lost sales. We also consider that the retailers' demand is stochastic following a uniform distribution. The mathematical models are developed and applied in vendor-managed inventory and traditional systems. Under the traditional supply chain, the vendor incurs the cost of holding and production setup, while a retailer incurs expenses for inventory holding, ordering, transportation and lost sales. In a vendor-managed inventory system, as the vendor is responsible for his retailers, the retailer's costs are transferred to the vendor. We aim to identify benefits of vendor-managed inventory. The total cost per unit time is used as a comparable measure between vendor-managed inventory and traditional systems. Numerical examples and a sensitivity analysis of key parameters include the vendor's setup cost and holding cost; the retailer's transportation and ordering costs are presented in both vendor-managed inventory and traditional systems. The results illustrate that vendor-managed inventory total system inventory cost is lower than a traditional system where shortage is allowed.\n",
    "    \n",
    "* [<span style=\"font-size:16px;\">title</span>]()\n",
    "> ### Abstract:"
   ]
  },
  {
   "cell_type": "code",
   "execution_count": null,
   "id": "f39b545e",
   "metadata": {},
   "outputs": [],
   "source": []
  },
  {
   "cell_type": "markdown",
   "id": "983e346a",
   "metadata": {},
   "source": [
    "## <a id=other><center>other</center></a>"
   ]
  },
  {
   "cell_type": "markdown",
   "id": "3fbfde4c",
   "metadata": {},
   "source": [
    "* [Review of GA applications in lot sizing](https://link-springer-com.utk.idm.oclc.org/article/10.1007/s10845-008-0205-2)\n",
    "> Lot sizing problems are production planning problems with the objective of determining the periods where production should take place and the quantities to be produced in order to satisfy demand while minimizing production, setup and inventory costs. Most lot sizing problems are combinatorial and hard to solve. In recent years, to deal with the complexity and find optimal or near-optimal results in reasonable computational time, a growing number of researchers have employed meta-heuristic approaches to lot sizing problems. One of the most popular meta-heuristics is genetic algorithms which have been applied to different optimization problems with good results. The focus of this paper is on the recent published literature employing genetic algorithms to solve lot sizing problems. The aim of the review is twofold. First it provides an overview of recent advances in the field in order to highlight the many ways GAs can be applied to various lot sizing models. Second, it presents ideas for future research by identifying gaps in the current literature. In reviewing the relevant literature the focus has been on the main features of the lot sizing problems and the specifications of genetic algorithms suggested in solving these problems. \n",
    "\n",
    "\n",
    "* [<span style=\"font-size:16px;\">title</span>]()\n",
    "> ### Abstract:\n",
    "\n",
    "* [<span style=\"font-size:16px;\">title</span>]()\n",
    "> ### Abstract:\n",
    "\n",
    "* [<span style=\"font-size:16px;\">title</span>]()\n",
    "> ### Abstract:\n",
    "\n",
    "* [<span style=\"font-size:16px;\">title</span>]()\n",
    "> ### Abstract:\n",
    "\n",
    "* [<span style=\"font-size:16px;\">title</span>]()\n",
    "> ### Abstract:\n",
    "\n",
    "* [<span style=\"font-size:16px;\">title</span>]()\n",
    "> ### Abstract:\n",
    "\n",
    "* [<span style=\"font-size:16px;\">title</span>]()\n",
    "> ### Abstract:\n",
    "\n",
    "* [<span style=\"font-size:16px;\">title</span>]()\n",
    "> ### Abstract:"
   ]
  },
  {
   "cell_type": "code",
   "execution_count": 1,
   "id": "273e85a0",
   "metadata": {
    "pycharm": {
     "name": "#%%\n"
    }
   },
   "outputs": [],
   "source": [
    "import os\n"
   ]
  }
 ],
 "metadata": {
  "kernelspec": {
   "display_name": "Python 3 (ipykernel)",
   "language": "python",
   "name": "python3"
  },
  "language_info": {
   "codemirror_mode": {
    "name": "ipython",
    "version": 3
   },
   "file_extension": ".py",
   "mimetype": "text/x-python",
   "name": "python",
   "nbconvert_exporter": "python",
   "pygments_lexer": "ipython3",
   "version": "3.9.6"
  }
 },
 "nbformat": 4,
 "nbformat_minor": 5
}
